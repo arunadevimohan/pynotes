{
 "cells": [
  {
   "cell_type": "code",
   "execution_count": 1,
   "id": "459d3dfe-9ac4-4ad6-b74c-13db52bdf175",
   "metadata": {},
   "outputs": [],
   "source": [
    "#1 hello world\n",
    "#2 good night\n",
    "#3 hello world\n",
    "#4 good night"
   ]
  },
  {
   "cell_type": "code",
   "execution_count": 6,
   "id": "dbdc1ba7-d70e-4f72-bd3d-5443185ea114",
   "metadata": {},
   "outputs": [],
   "source": [
    "name = \" hello world , good night\""
   ]
  },
  {
   "cell_type": "code",
   "execution_count": 7,
   "id": "d9c21781-4387-4d1c-b2c6-3b5200253f45",
   "metadata": {},
   "outputs": [
    {
     "ename": "IndentationError",
     "evalue": "unexpected indent (1043917493.py, line 2)",
     "output_type": "error",
     "traceback": [
      "\u001b[1;36m  Cell \u001b[1;32mIn[7], line 2\u001b[1;36m\u001b[0m\n\u001b[1;33m    print (slice1)\u001b[0m\n\u001b[1;37m    ^\u001b[0m\n\u001b[1;31mIndentationError\u001b[0m\u001b[1;31m:\u001b[0m unexpected indent\n"
     ]
    }
   ],
   "source": []
  },
  {
   "cell_type": "code",
   "execution_count": 4,
   "id": "61778b19-e98c-4977-8fc0-a6f7a492f290",
   "metadata": {},
   "outputs": [
    {
     "name": "stdout",
     "output_type": "stream",
     "text": [
      "1 hello world\n",
      "2 hello world\n",
      "3 hello world\n",
      "4 hello world\n"
     ]
    }
   ],
   "source": [
    "for i in range (1,5):\n",
    "    print (f\"{i} hello world\")"
   ]
  },
  {
   "cell_type": "code",
   "execution_count": null,
   "id": "b79933e9-33d3-4e8f-bb82-660c86851c03",
   "metadata": {},
   "outputs": [],
   "source": []
  }
 ],
 "metadata": {
  "kernelspec": {
   "display_name": "Python 3 (ipykernel)",
   "language": "python",
   "name": "python3"
  },
  "language_info": {
   "codemirror_mode": {
    "name": "ipython",
    "version": 3
   },
   "file_extension": ".py",
   "mimetype": "text/x-python",
   "name": "python",
   "nbconvert_exporter": "python",
   "pygments_lexer": "ipython3",
   "version": "3.12.8"
  }
 },
 "nbformat": 4,
 "nbformat_minor": 5
}
