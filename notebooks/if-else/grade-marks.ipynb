{
 "cells": [
  {
   "cell_type": "code",
   "execution_count": 1,
   "id": "997440c0-6276-46b4-9e79-acd29036507f",
   "metadata": {},
   "outputs": [],
   "source": [
    "#Enter marks: 82#"
   ]
  },
  {
   "cell_type": "code",
   "execution_count": 2,
   "id": "c1178242-645d-48b7-a1ff-d65fb82f6843",
   "metadata": {},
   "outputs": [],
   "source": [
    "#Grade: B#"
   ]
  },
  {
   "cell_type": "code",
   "execution_count": 1,
   "id": "1c85afde-6d8b-485e-8099-5b8a7d85687e",
   "metadata": {},
   "outputs": [],
   "source": [
    "marks =range(1,101)"
   ]
  },
  {
   "cell_type": "code",
   "execution_count": 2,
   "id": "c12d8c8a-d5fe-4b88-a798-d46d378b7683",
   "metadata": {},
   "outputs": [
    {
     "name": "stdin",
     "output_type": "stream",
     "text": [
      "enter your marks:  98\n"
     ]
    },
    {
     "name": "stdout",
     "output_type": "stream",
     "text": [
      "grade:A\n"
     ]
    }
   ],
   "source": [
    "marks = int(input(\"enter your marks: \"))\n",
    "if marks >=90:\n",
    "    print(\"grade:A\")\n",
    "elif marks >= 80:\n",
    "    print(\"grade: B\")\n",
    "elif marks >= 70:\n",
    "    print(\"grade: C\")\n",
    "elif marks >= 60:\n",
    "    print(\"grade: D\")\n",
    "elif marks >= 50:\n",
    "    print(\"grade: E\")\n",
    "else:\n",
    "    print(\"grade: F(Fail)\")\n",
    "    "
   ]
  },
  {
   "cell_type": "code",
   "execution_count": null,
   "id": "f830ad10-84d6-4806-a9ca-a44822b501d8",
   "metadata": {},
   "outputs": [],
   "source": []
  }
 ],
 "metadata": {
  "kernelspec": {
   "display_name": "Python 3 (ipykernel)",
   "language": "python",
   "name": "python3"
  },
  "language_info": {
   "codemirror_mode": {
    "name": "ipython",
    "version": 3
   },
   "file_extension": ".py",
   "mimetype": "text/x-python",
   "name": "python",
   "nbconvert_exporter": "python",
   "pygments_lexer": "ipython3",
   "version": "3.12.8"
  }
 },
 "nbformat": 4,
 "nbformat_minor": 5
}
