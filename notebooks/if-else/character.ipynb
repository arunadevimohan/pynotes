{
 "cells": [
  {
   "cell_type": "code",
   "execution_count": 1,
   "id": "17b8ba95-563f-42fb-8ea9-c340c966d5b6",
   "metadata": {},
   "outputs": [],
   "source": [
    "#Enter a character: A#\n"
   ]
  },
  {
   "cell_type": "code",
   "execution_count": 2,
   "id": "fd7824e0-ef41-455a-a019-86ab37787fb1",
   "metadata": {},
   "outputs": [],
   "source": [
    "#Vowel#"
   ]
  },
  {
   "cell_type": "code",
   "execution_count": 3,
   "id": "bf4a32db-dae2-43de-9564-f982a00d1f67",
   "metadata": {},
   "outputs": [],
   "source": [
    "char= \"a,e,i,o,u\""
   ]
  },
  {
   "cell_type": "code",
   "execution_count": null,
   "id": "013c94f0-6f67-4352-a85a-33ac433c749b",
   "metadata": {},
   "outputs": [],
   "source": []
  }
 ],
 "metadata": {
  "kernelspec": {
   "display_name": "Python 3 (ipykernel)",
   "language": "python",
   "name": "python3"
  },
  "language_info": {
   "codemirror_mode": {
    "name": "ipython",
    "version": 3
   },
   "file_extension": ".py",
   "mimetype": "text/x-python",
   "name": "python",
   "nbconvert_exporter": "python",
   "pygments_lexer": "ipython3",
   "version": "3.12.8"
  }
 },
 "nbformat": 4,
 "nbformat_minor": 5
}
