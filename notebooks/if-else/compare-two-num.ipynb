{
 "cells": [
  {
   "cell_type": "code",
   "execution_count": 2,
   "id": "096ce0eb-b257-4c22-9584-44575573f532",
   "metadata": {},
   "outputs": [],
   "source": [
    "#Enter first number: 10#\n",
    "\n"
   ]
  },
  {
   "cell_type": "code",
   "execution_count": 3,
   "id": "860d6ac6-50c6-4273-9a8f-1c9deb8892a7",
   "metadata": {},
   "outputs": [],
   "source": [
    "#Enter second number: 15#"
   ]
  },
  {
   "cell_type": "code",
   "execution_count": 4,
   "id": "44a881a9-7e8b-4a11-9082-bc96600b04ba",
   "metadata": {},
   "outputs": [],
   "source": [
    "#15 is greater than 10#"
   ]
  },
  {
   "cell_type": "code",
   "execution_count": 6,
   "id": "03ffb988-bbf4-4cdb-980c-625635c622dc",
   "metadata": {},
   "outputs": [],
   "source": [
    "num1 = 10"
   ]
  },
  {
   "cell_type": "code",
   "execution_count": 7,
   "id": "4a1791bb-4765-4eec-9f2b-ba133e28b940",
   "metadata": {},
   "outputs": [],
   "source": [
    "num2 = 15"
   ]
  },
  {
   "cell_type": "code",
   "execution_count": 9,
   "id": "db2b0c34-c9a8-4284-80ba-35c1d85e4c74",
   "metadata": {},
   "outputs": [
    {
     "name": "stdin",
     "output_type": "stream",
     "text": [
      "Enter the first number:  15\n",
      "Enter the second number:  16\n"
     ]
    }
   ],
   "source": [
    "num1 = int(input(\"Enter the first number: \"))\n",
    "num2 = int(input(\"Enter the second number: \")) "
   ]
  },
  {
   "cell_type": "code",
   "execution_count": 10,
   "id": "f68621a8-7dae-4a2b-957a-9c5b6f09e053",
   "metadata": {},
   "outputs": [
    {
     "name": "stdout",
     "output_type": "stream",
     "text": [
      "16 is greater than 15\n"
     ]
    }
   ],
   "source": [
    "if num2 > num1:\n",
    "    print(f\"{num2} is greater than {num1}\")\n",
    "else:\n",
    "    print(f\"{num2} is equal to {num1}\")"
   ]
  },
  {
   "cell_type": "code",
   "execution_count": null,
   "id": "fedfe1d9-fe94-4155-8c24-2bfa2909189e",
   "metadata": {},
   "outputs": [],
   "source": []
  }
 ],
 "metadata": {
  "kernelspec": {
   "display_name": "Python 3 (ipykernel)",
   "language": "python",
   "name": "python3"
  },
  "language_info": {
   "codemirror_mode": {
    "name": "ipython",
    "version": 3
   },
   "file_extension": ".py",
   "mimetype": "text/x-python",
   "name": "python",
   "nbconvert_exporter": "python",
   "pygments_lexer": "ipython3",
   "version": "3.12.8"
  }
 },
 "nbformat": 4,
 "nbformat_minor": 5
}
