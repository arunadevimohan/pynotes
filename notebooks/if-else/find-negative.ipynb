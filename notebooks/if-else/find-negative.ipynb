{
 "cells": [
  {
   "cell_type": "code",
   "execution_count": 1,
   "id": "29ba9881-028e-483f-b297-8fbe43103fbf",
   "metadata": {},
   "outputs": [],
   "source": [
    "#Enter a number: -5#\n",
    "#Negative number#\n",
    "                                                                                                                                            "
   ]
  },
  {
   "cell_type": "code",
   "execution_count": 2,
   "id": "9d4e8570-2382-4be3-bbdf-6ed6791148f6",
   "metadata": {},
   "outputs": [],
   "source": [
    "num = 5"
   ]
  },
  {
   "cell_type": "code",
   "execution_count": 5,
   "id": "755ca0de-2098-4202-82f6-abfc0ee42606",
   "metadata": {},
   "outputs": [
    {
     "name": "stdout",
     "output_type": "stream",
     "text": [
      "positive number\n"
     ]
    }
   ],
   "source": [
    "if num > 0:\n",
    "    print(\"positive number\")"
   ]
  },
  {
   "cell_type": "code",
   "execution_count": 6,
   "id": "db6a130b-f169-46a1-9e22-f0d8ec917a4c",
   "metadata": {},
   "outputs": [],
   "source": [
    "snum = -5"
   ]
  },
  {
   "cell_type": "code",
   "execution_count": 7,
   "id": "1f885233-de5b-4fe4-94e2-bb7f3586f04a",
   "metadata": {},
   "outputs": [
    {
     "name": "stdout",
     "output_type": "stream",
     "text": [
      "negative number\n"
     ]
    }
   ],
   "source": [
    "if snum < 0:\n",
    "    print(\"negative number\")"
   ]
  },
  {
   "cell_type": "code",
   "execution_count": 11,
   "id": "7fce8e05-f5bd-46cf-b4d6-20fbb6d54c6d",
   "metadata": {},
   "outputs": [
    {
     "name": "stdin",
     "output_type": "stream",
     "text": [
      "enter your number -5\n"
     ]
    },
    {
     "name": "stdout",
     "output_type": "stream",
     "text": [
      "negative number\n"
     ]
    }
   ],
   "source": [
    "num = int(input(\"enter your number\"))\n",
    "\n",
    "if num > 0:\n",
    "    print (\"positive number\")\n",
    "else:\n",
    "    print (\"negative number\")"
   ]
  },
  {
   "cell_type": "code",
   "execution_count": null,
   "id": "17280ee8-0aa3-4da4-9335-27a1efae57a2",
   "metadata": {},
   "outputs": [],
   "source": []
  }
 ],
 "metadata": {
  "kernelspec": {
   "display_name": "Python 3 (ipykernel)",
   "language": "python",
   "name": "python3"
  },
  "language_info": {
   "codemirror_mode": {
    "name": "ipython",
    "version": 3
   },
   "file_extension": ".py",
   "mimetype": "text/x-python",
   "name": "python",
   "nbconvert_exporter": "python",
   "pygments_lexer": "ipython3",
   "version": "3.12.8"
  }
 },
 "nbformat": 4,
 "nbformat_minor": 5
}
