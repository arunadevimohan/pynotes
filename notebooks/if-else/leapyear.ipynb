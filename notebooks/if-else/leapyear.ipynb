{
 "cells": [
  {
   "cell_type": "code",
   "execution_count": 1,
   "id": "1af3b647-8013-481a-8798-dc70d04346d3",
   "metadata": {},
   "outputs": [],
   "source": [
    "#Enter a year: 2000#\n"
   ]
  },
  {
   "cell_type": "code",
   "execution_count": 2,
   "id": "8cb5808c-eca0-4657-8bd5-ee2a4160decf",
   "metadata": {},
   "outputs": [],
   "source": [
    "#Leap year#"
   ]
  },
  {
   "cell_type": "code",
   "execution_count": 3,
   "id": "960fea0c-1d5b-4ffd-a5ad-a1e37d6eba44",
   "metadata": {},
   "outputs": [],
   "source": [
    "year = 2000"
   ]
  },
  {
   "cell_type": "code",
   "execution_count": 8,
   "id": "283ad1ad-5561-4cad-a806-bd26ed6f4a65",
   "metadata": {},
   "outputs": [
    {
     "name": "stdin",
     "output_type": "stream",
     "text": [
      "year :  2001\n"
     ]
    },
    {
     "name": "stdout",
     "output_type": "stream",
     "text": [
      " It is not Leap year\n"
     ]
    }
   ],
   "source": [
    "year = int(input(\"year : \"))\n",
    "if year == 2000:\n",
    "    print (\"Leap year\")\n",
    "else:\n",
    "    year =! 2000\n",
    "    print (\" It is not Leap year\")"
   ]
  },
  {
   "cell_type": "code",
   "execution_count": null,
   "id": "786f6892-e6f8-41d2-bbe4-4d130909c9eb",
   "metadata": {},
   "outputs": [],
   "source": []
  }
 ],
 "metadata": {
  "kernelspec": {
   "display_name": "Python 3 (ipykernel)",
   "language": "python",
   "name": "python3"
  },
  "language_info": {
   "codemirror_mode": {
    "name": "ipython",
    "version": 3
   },
   "file_extension": ".py",
   "mimetype": "text/x-python",
   "name": "python",
   "nbconvert_exporter": "python",
   "pygments_lexer": "ipython3",
   "version": "3.12.8"
  }
 },
 "nbformat": 4,
 "nbformat_minor": 5
}
