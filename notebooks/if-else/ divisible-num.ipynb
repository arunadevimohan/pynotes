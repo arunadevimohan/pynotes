{
 "cells": [
  {
   "cell_type": "code",
   "execution_count": 11,
   "id": "69656718-b5fa-4876-8c05-2cda912bf3c9",
   "metadata": {},
   "outputs": [],
   "source": [
    "#Enter a number: 15#\n"
   ]
  },
  {
   "cell_type": "code",
   "execution_count": 12,
   "id": "6530d3a2-db6d-4769-bc67-419ee1d3b1ad",
   "metadata": {},
   "outputs": [],
   "source": [
    "#Divisible by both 3 and 5#"
   ]
  },
  {
   "cell_type": "code",
   "execution_count": 13,
   "id": "c04511c8-8764-4391-8010-4799539d62f8",
   "metadata": {},
   "outputs": [],
   "source": [
    "num = 15"
   ]
  },
  {
   "cell_type": "code",
   "execution_count": null,
   "id": "363203c0-e2e9-4478-8dcd-23fc048dd97a",
   "metadata": {},
   "outputs": [],
   "source": [
    "num = int(input(\"divisible number is: \"))\n"
   ]
  },
  {
   "cell_type": "code",
   "execution_count": 14,
   "id": "689bc5af-d07d-4a67-b7b3-4c104046747e",
   "metadata": {},
   "outputs": [
    {
     "ename": "SyntaxError",
     "evalue": "invalid syntax (1255150053.py, line 1)",
     "output_type": "error",
     "traceback": [
      "\u001b[1;36m  Cell \u001b[1;32mIn[14], line 1\u001b[1;36m\u001b[0m\n\u001b[1;33m    if num 3% == 0 and num 5% == 0:\u001b[0m\n\u001b[1;37m           ^\u001b[0m\n\u001b[1;31mSyntaxError\u001b[0m\u001b[1;31m:\u001b[0m invalid syntax\n"
     ]
    }
   ],
   "source": [
    "if num % 3 == 0 and num % 5 == 0:\n",
    "    print (f\"{num} is divisible by both 3 and 5\")\n",
    "else:\n",
    "    print (f\"{num} is not divisible by both 3 and 5\")"
   ]
  },
  {
   "cell_type": "code",
   "execution_count": null,
   "id": "b2354f93-67b9-4f22-b99c-00c776e56837",
   "metadata": {},
   "outputs": [],
   "source": []
  }
 ],
 "metadata": {
  "kernelspec": {
   "display_name": "Python 3 (ipykernel)",
   "language": "python",
   "name": "python3"
  },
  "language_info": {
   "codemirror_mode": {
    "name": "ipython",
    "version": 3
   },
   "file_extension": ".py",
   "mimetype": "text/x-python",
   "name": "python",
   "nbconvert_exporter": "python",
   "pygments_lexer": "ipython3",
   "version": "3.12.8"
  }
 },
 "nbformat": 4,
 "nbformat_minor": 5
}
