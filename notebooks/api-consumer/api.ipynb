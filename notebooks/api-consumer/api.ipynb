{
 "cells": [
  {
   "cell_type": "code",
   "execution_count": 73,
   "id": "047f5cd1-8edc-47e5-a69a-9979b4e5e541",
   "metadata": {},
   "outputs": [],
   "source": [
    "import requests as req\n",
    "import json"
   ]
  },
  {
   "cell_type": "code",
   "execution_count": 74,
   "id": "3c1fe823-5758-4444-b928-bae7d2723a3e",
   "metadata": {},
   "outputs": [],
   "source": [
    "response = req.get(\"https://randomuser.me/api/\")"
   ]
  },
  {
   "cell_type": "code",
   "execution_count": 75,
   "id": "2262012b-c3f9-4b81-81b5-240362809cb2",
   "metadata": {},
   "outputs": [],
   "source": [
    "response_json = response.json()"
   ]
  },
  {
   "cell_type": "code",
   "execution_count": 76,
   "id": "08b953b3-2bac-4c49-9449-950dffe3736e",
   "metadata": {},
   "outputs": [],
   "source": [
    "result_first_item = response_json[\"results\"][0]"
   ]
  },
  {
   "cell_type": "code",
   "execution_count": 77,
   "id": "6996e5b5-0e07-4f0f-901c-7d81538abf97",
   "metadata": {},
   "outputs": [
    {
     "data": {
      "text/plain": [
       "{'gender': 'male',\n",
       " 'name': {'title': 'Mr', 'first': 'Anton', 'last': 'Halland'},\n",
       " 'location': {'street': {'number': 3308, 'name': 'Ruths vei'},\n",
       "  'city': 'Årås',\n",
       "  'state': 'Aust-Agder',\n",
       "  'country': 'Norway',\n",
       "  'postcode': '2440',\n",
       "  'coordinates': {'latitude': '39.8460', 'longitude': '-66.6684'},\n",
       "  'timezone': {'offset': '+5:30',\n",
       "   'description': 'Bombay, Calcutta, Madras, New Delhi'}},\n",
       " 'email': 'anton.halland@example.com',\n",
       " 'login': {'uuid': '04b5bf17-0b15-46a2-b5a1-b345245c9ce1',\n",
       "  'username': 'redbird751',\n",
       "  'password': 'fingers',\n",
       "  'salt': 'aSgwzNkn',\n",
       "  'md5': '4ad2a8c09ad455d0687565ff5b7e0650',\n",
       "  'sha1': '8f62bb259da9ab821b9dd2742693ef5c7039441c',\n",
       "  'sha256': '3d0dbd8577520e50bc7dcb550a224ff9e5be43b166ae55d7033c01736a4c7593'},\n",
       " 'dob': {'date': '1956-05-24T00:49:07.434Z', 'age': 68},\n",
       " 'registered': {'date': '2008-05-19T10:52:44.028Z', 'age': 16},\n",
       " 'phone': '22375780',\n",
       " 'cell': '97709356',\n",
       " 'id': {'name': 'FN', 'value': '24055621329'},\n",
       " 'picture': {'large': 'https://randomuser.me/api/portraits/men/33.jpg',\n",
       "  'medium': 'https://randomuser.me/api/portraits/med/men/33.jpg',\n",
       "  'thumbnail': 'https://randomuser.me/api/portraits/thumb/men/33.jpg'},\n",
       " 'nat': 'NO'}"
      ]
     },
     "execution_count": 77,
     "metadata": {},
     "output_type": "execute_result"
    }
   ],
   "source": [
    "result_first_item "
   ]
  },
  {
   "cell_type": "code",
   "execution_count": 78,
   "id": "5490fc70-a581-4715-9d80-d50ae178b20c",
   "metadata": {},
   "outputs": [],
   "source": [
    "user_description= result_first_item.get(\"location\",{}).get(\"timezone\",{}).get(\"description\",{})"
   ]
  },
  {
   "cell_type": "code",
   "execution_count": 79,
   "id": "35142bc4-e6ff-49d7-bca0-f7b3d85a39c9",
   "metadata": {},
   "outputs": [
    {
     "data": {
      "text/plain": [
       "'Bombay, Calcutta, Madras, New Delhi'"
      ]
     },
     "execution_count": 79,
     "metadata": {},
     "output_type": "execute_result"
    }
   ],
   "source": [
    "user_description"
   ]
  },
  {
   "cell_type": "code",
   "execution_count": 80,
   "id": "26ff2a78-4dcf-4170-8533-b735666e3781",
   "metadata": {},
   "outputs": [],
   "source": [
    "user_uuid= result_first_item.get(\"login\",{}).get(\"uuid\",{})"
   ]
  },
  {
   "cell_type": "code",
   "execution_count": 81,
   "id": "6275b199-ea7e-4134-82b8-01c2bc1df16f",
   "metadata": {},
   "outputs": [
    {
     "data": {
      "text/plain": [
       "'04b5bf17-0b15-46a2-b5a1-b345245c9ce1'"
      ]
     },
     "execution_count": 81,
     "metadata": {},
     "output_type": "execute_result"
    }
   ],
   "source": [
    "user_uuid"
   ]
  },
  {
   "cell_type": "code",
   "execution_count": 82,
   "id": "a5c19f7d-15a4-4258-b3bd-dc4dd845eb71",
   "metadata": {},
   "outputs": [],
   "source": [
    "user_age= result_first_item.get(\"registered\",{}).get(\"age\",{})"
   ]
  },
  {
   "cell_type": "code",
   "execution_count": 83,
   "id": "ae0227e2-6085-4854-86bf-28624f10b4a6",
   "metadata": {},
   "outputs": [
    {
     "data": {
      "text/plain": [
       "16"
      ]
     },
     "execution_count": 83,
     "metadata": {},
     "output_type": "execute_result"
    }
   ],
   "source": [
    "user_age"
   ]
  },
  {
   "cell_type": "code",
   "execution_count": 84,
   "id": "d77c5f44-40dd-422f-ac1f-bf022bb881fd",
   "metadata": {},
   "outputs": [],
   "source": [
    "user_phone= result_first_item.get(\"phone\",{})"
   ]
  },
  {
   "cell_type": "code",
   "execution_count": 85,
   "id": "7c555ad3-0021-4709-9891-dc6d6d489c62",
   "metadata": {},
   "outputs": [
    {
     "data": {
      "text/plain": [
       "'22375780'"
      ]
     },
     "execution_count": 85,
     "metadata": {},
     "output_type": "execute_result"
    }
   ],
   "source": [
    "user_phone"
   ]
  },
  {
   "cell_type": "code",
   "execution_count": 86,
   "id": "2dca4ac0-df37-4e99-bc37-a6a012f72755",
   "metadata": {},
   "outputs": [],
   "source": [
    "user_thumbnail= result_first_item.get(\"picture\",{}).get(\"thumbnail\",{})"
   ]
  },
  {
   "cell_type": "code",
   "execution_count": 87,
   "id": "dbf9a1d6-1de6-421a-9e8a-1d25bf58518d",
   "metadata": {},
   "outputs": [
    {
     "data": {
      "text/plain": [
       "'https://randomuser.me/api/portraits/thumb/men/33.jpg'"
      ]
     },
     "execution_count": 87,
     "metadata": {},
     "output_type": "execute_result"
    }
   ],
   "source": [
    "user_thumbnail"
   ]
  },
  {
   "cell_type": "code",
   "execution_count": 88,
   "id": "9bde8c2b-742e-4f2e-a2d8-e52f373c255f",
   "metadata": {},
   "outputs": [],
   "source": [
    "# convert method"
   ]
  },
  {
   "cell_type": "code",
   "execution_count": 100,
   "id": "c96eaaad-d00d-40fc-99e8-f46da2b80e05",
   "metadata": {},
   "outputs": [],
   "source": [
    "def get_user_details( response_json):\n",
    "    result_first_item  = response_json[\"results\"][0]\n",
    "    user_description   = result_first_item.get(\"location\",{}).get(\"timezone\",{}).get(\"description\",{})\n",
    "    user_uuid          = result_first_item.get(\"login\",{}).get(\"uuid\",{})\n",
    "    user_age           = result_first_item.get(\"registered\",{}).get(\"age\",{})\n",
    "    user_phone         = result_first_item.get(\"phone\",{})\n",
    "    user_thumbnail     = result_first_item.get(\"picture\",{}).get(\"thumbnail\",{})\n",
    "    \n",
    "    result_dict= {\n",
    "            \"description\"  :user_description,\n",
    "            \"uuid\"         :user_uuid,   \n",
    "            \"age\"          :user_age,\n",
    "            \"phone\"        :user_phone,\n",
    "            \"thumbnail\"    :user_thumbnail \n",
    "    }\n",
    "    return result_dict\n",
    "  "
   ]
  },
  {
   "cell_type": "code",
   "execution_count": 101,
   "id": "4bd3313d-e6cc-4a2c-b4eb-9546c610ef20",
   "metadata": {},
   "outputs": [
    {
     "data": {
      "text/plain": [
       "{'description': 'Pacific Time (US & Canada)',\n",
       " 'uuid': '2f206d38-ebd8-4d79-b89b-75b8a7f937e8',\n",
       " 'age': 7,\n",
       " 'phone': '8496248536',\n",
       " 'thumbnail': 'https://randomuser.me/api/portraits/thumb/men/54.jpg'}"
      ]
     },
     "execution_count": 101,
     "metadata": {},
     "output_type": "execute_result"
    }
   ],
   "source": [
    "res = req.get(\"https://randomuser.me/api/\")\n",
    "get_user_details(res.json())"
   ]
  },
  {
   "cell_type": "code",
   "execution_count": null,
   "id": "15fef26c-b523-4076-b1e0-ddf6f6f1364e",
   "metadata": {},
   "outputs": [],
   "source": []
  },
  {
   "cell_type": "code",
   "execution_count": null,
   "id": "62caf326-417b-4e83-ae13-d852b7748e42",
   "metadata": {},
   "outputs": [],
   "source": [
    "\n"
   ]
  },
  {
   "cell_type": "code",
   "execution_count": null,
   "id": "5ba309d3-bfd6-4ae9-a2a7-e6817491314f",
   "metadata": {},
   "outputs": [],
   "source": []
  },
  {
   "cell_type": "code",
   "execution_count": null,
   "id": "2875b570-4e0c-4c6f-907b-0aa04fa3979e",
   "metadata": {},
   "outputs": [],
   "source": []
  }
 ],
 "metadata": {
  "kernelspec": {
   "display_name": "Python 3 (ipykernel)",
   "language": "python",
   "name": "python3"
  },
  "language_info": {
   "codemirror_mode": {
    "name": "ipython",
    "version": 3
   },
   "file_extension": ".py",
   "mimetype": "text/x-python",
   "name": "python",
   "nbconvert_exporter": "python",
   "pygments_lexer": "ipython3",
   "version": "3.12.8"
  }
 },
 "nbformat": 4,
 "nbformat_minor": 5
}
