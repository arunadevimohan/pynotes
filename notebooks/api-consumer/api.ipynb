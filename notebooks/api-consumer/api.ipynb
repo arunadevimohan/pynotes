{
 "cells": [
  {
   "cell_type": "code",
   "execution_count": 102,
   "id": "047f5cd1-8edc-47e5-a69a-9979b4e5e541",
   "metadata": {},
   "outputs": [],
   "source": [
    "import requests as req\n",
    "import json"
   ]
  },
  {
   "cell_type": "code",
   "execution_count": 103,
   "id": "3c1fe823-5758-4444-b928-bae7d2723a3e",
   "metadata": {},
   "outputs": [],
   "source": [
    "response = req.get(\"https://randomuser.me/api/\")"
   ]
  },
  {
   "cell_type": "code",
   "execution_count": 104,
   "id": "2262012b-c3f9-4b81-81b5-240362809cb2",
   "metadata": {},
   "outputs": [],
   "source": [
    "response_json = response.json()"
   ]
  },
  {
   "cell_type": "code",
   "execution_count": 105,
   "id": "08b953b3-2bac-4c49-9449-950dffe3736e",
   "metadata": {},
   "outputs": [],
   "source": [
    "result_first_item = response_json[\"results\"][0]"
   ]
  },
  {
   "cell_type": "code",
   "execution_count": 106,
   "id": "6996e5b5-0e07-4f0f-901c-7d81538abf97",
   "metadata": {},
   "outputs": [
    {
     "data": {
      "text/plain": [
       "{'gender': 'female',\n",
       " 'name': {'title': 'Mrs', 'first': 'Carmen', 'last': 'Edwards'},\n",
       " 'location': {'street': {'number': 5312, 'name': 'Bollinger Rd'},\n",
       "  'city': 'Mackay',\n",
       "  'state': 'Northern Territory',\n",
       "  'country': 'Australia',\n",
       "  'postcode': 9241,\n",
       "  'coordinates': {'latitude': '-87.1828', 'longitude': '42.6583'},\n",
       "  'timezone': {'offset': '+9:00',\n",
       "   'description': 'Tokyo, Seoul, Osaka, Sapporo, Yakutsk'}},\n",
       " 'email': 'carmen.edwards@example.com',\n",
       " 'login': {'uuid': '236e8085-e72e-4a8d-b2ce-4981a8969a7d',\n",
       "  'username': 'whiteelephant611',\n",
       "  'password': 'salasana',\n",
       "  'salt': 'Di6OG2Ri',\n",
       "  'md5': 'c85ee217f75340dec642d664f76f44f0',\n",
       "  'sha1': '81bef21e76dea60d423e166e072c41e2ce30e54b',\n",
       "  'sha256': '92f929c5dffc136ff7ab5785bcbc325fa65ca2820742f2ed491ac3ffa50460ee'},\n",
       " 'dob': {'date': '1975-11-05T17:00:38.520Z', 'age': 49},\n",
       " 'registered': {'date': '2004-08-24T14:03:44.166Z', 'age': 20},\n",
       " 'phone': '05-6466-4814',\n",
       " 'cell': '0425-630-091',\n",
       " 'id': {'name': 'TFN', 'value': '571614589'},\n",
       " 'picture': {'large': 'https://randomuser.me/api/portraits/women/65.jpg',\n",
       "  'medium': 'https://randomuser.me/api/portraits/med/women/65.jpg',\n",
       "  'thumbnail': 'https://randomuser.me/api/portraits/thumb/women/65.jpg'},\n",
       " 'nat': 'AU'}"
      ]
     },
     "execution_count": 106,
     "metadata": {},
     "output_type": "execute_result"
    }
   ],
   "source": [
    "result_first_item "
   ]
  },
  {
   "cell_type": "code",
   "execution_count": 107,
   "id": "5490fc70-a581-4715-9d80-d50ae178b20c",
   "metadata": {},
   "outputs": [],
   "source": [
    "user_description= result_first_item.get(\"location\",{}).get(\"timezone\",{}).get(\"description\",{})"
   ]
  },
  {
   "cell_type": "code",
   "execution_count": 108,
   "id": "35142bc4-e6ff-49d7-bca0-f7b3d85a39c9",
   "metadata": {},
   "outputs": [
    {
     "data": {
      "text/plain": [
       "'Tokyo, Seoul, Osaka, Sapporo, Yakutsk'"
      ]
     },
     "execution_count": 108,
     "metadata": {},
     "output_type": "execute_result"
    }
   ],
   "source": [
    "user_description"
   ]
  },
  {
   "cell_type": "code",
   "execution_count": 109,
   "id": "26ff2a78-4dcf-4170-8533-b735666e3781",
   "metadata": {},
   "outputs": [],
   "source": [
    "user_uuid= result_first_item.get(\"login\",{}).get(\"uuid\",{})"
   ]
  },
  {
   "cell_type": "code",
   "execution_count": 110,
   "id": "6275b199-ea7e-4134-82b8-01c2bc1df16f",
   "metadata": {},
   "outputs": [
    {
     "data": {
      "text/plain": [
       "'236e8085-e72e-4a8d-b2ce-4981a8969a7d'"
      ]
     },
     "execution_count": 110,
     "metadata": {},
     "output_type": "execute_result"
    }
   ],
   "source": [
    "user_uuid"
   ]
  },
  {
   "cell_type": "code",
   "execution_count": 111,
   "id": "a5c19f7d-15a4-4258-b3bd-dc4dd845eb71",
   "metadata": {},
   "outputs": [],
   "source": [
    "user_age= result_first_item.get(\"registered\",{}).get(\"age\",{})"
   ]
  },
  {
   "cell_type": "code",
   "execution_count": 112,
   "id": "ae0227e2-6085-4854-86bf-28624f10b4a6",
   "metadata": {},
   "outputs": [
    {
     "data": {
      "text/plain": [
       "20"
      ]
     },
     "execution_count": 112,
     "metadata": {},
     "output_type": "execute_result"
    }
   ],
   "source": [
    "user_age"
   ]
  },
  {
   "cell_type": "code",
   "execution_count": 113,
   "id": "d77c5f44-40dd-422f-ac1f-bf022bb881fd",
   "metadata": {},
   "outputs": [],
   "source": [
    "user_phone= result_first_item.get(\"phone\",{})"
   ]
  },
  {
   "cell_type": "code",
   "execution_count": 114,
   "id": "7c555ad3-0021-4709-9891-dc6d6d489c62",
   "metadata": {},
   "outputs": [
    {
     "data": {
      "text/plain": [
       "'05-6466-4814'"
      ]
     },
     "execution_count": 114,
     "metadata": {},
     "output_type": "execute_result"
    }
   ],
   "source": [
    "user_phone"
   ]
  },
  {
   "cell_type": "code",
   "execution_count": 115,
   "id": "2dca4ac0-df37-4e99-bc37-a6a012f72755",
   "metadata": {},
   "outputs": [],
   "source": [
    "user_thumbnail= result_first_item.get(\"picture\",{}).get(\"thumbnail\",{})"
   ]
  },
  {
   "cell_type": "code",
   "execution_count": 116,
   "id": "dbf9a1d6-1de6-421a-9e8a-1d25bf58518d",
   "metadata": {},
   "outputs": [
    {
     "data": {
      "text/plain": [
       "'https://randomuser.me/api/portraits/thumb/women/65.jpg'"
      ]
     },
     "execution_count": 116,
     "metadata": {},
     "output_type": "execute_result"
    }
   ],
   "source": [
    "user_thumbnail"
   ]
  },
  {
   "cell_type": "code",
   "execution_count": 117,
   "id": "9bde8c2b-742e-4f2e-a2d8-e52f373c255f",
   "metadata": {},
   "outputs": [],
   "source": [
    "# convert method"
   ]
  },
  {
   "cell_type": "code",
   "execution_count": 118,
   "id": "c96eaaad-d00d-40fc-99e8-f46da2b80e05",
   "metadata": {},
   "outputs": [],
   "source": [
    "def get_user_details( response_json):\n",
    "    result_first_item  = response_json[\"results\"][0]\n",
    "    user_description   = result_first_item.get(\"location\",{}).get(\"timezone\",{}).get(\"description\",{})\n",
    "    user_uuid          = result_first_item.get(\"login\",{}).get(\"uuid\",{})\n",
    "    user_age           = result_first_item.get(\"registered\",{}).get(\"age\",{})\n",
    "    user_phone         = result_first_item.get(\"phone\",{})\n",
    "    user_thumbnail     = result_first_item.get(\"picture\",{}).get(\"thumbnail\",{})\n",
    "    \n",
    "    result_dict= {\n",
    "            \"description\"  :user_description,\n",
    "            \"uuid\"         :user_uuid,   \n",
    "            \"age\"          :user_age,\n",
    "            \"phone\"        :user_phone,\n",
    "            \"thumbnail\"    :user_thumbnail \n",
    "    }\n",
    "    return result_dict\n",
    "  "
   ]
  },
  {
   "cell_type": "code",
   "execution_count": 119,
   "id": "4bd3313d-e6cc-4a2c-b4eb-9546c610ef20",
   "metadata": {},
   "outputs": [
    {
     "data": {
      "text/plain": [
       "{'description': 'Beijing, Perth, Singapore, Hong Kong',\n",
       " 'uuid': '12d7532d-cbf2-4507-b09b-b62ece7202ba',\n",
       " 'age': 19,\n",
       " 'phone': '(794)-101-6660',\n",
       " 'thumbnail': 'https://randomuser.me/api/portraits/thumb/men/89.jpg'}"
      ]
     },
     "execution_count": 119,
     "metadata": {},
     "output_type": "execute_result"
    }
   ],
   "source": [
    "res = req.get(\"https://randomuser.me/api/\")\n",
    "get_user_details(res.json())"
   ]
  },
  {
   "cell_type": "code",
   "execution_count": null,
   "id": "15fef26c-b523-4076-b1e0-ddf6f6f1364e",
   "metadata": {},
   "outputs": [],
   "source": []
  },
  {
   "cell_type": "code",
   "execution_count": null,
   "id": "62caf326-417b-4e83-ae13-d852b7748e42",
   "metadata": {},
   "outputs": [],
   "source": [
    "\n"
   ]
  },
  {
   "cell_type": "code",
   "execution_count": null,
   "id": "5ba309d3-bfd6-4ae9-a2a7-e6817491314f",
   "metadata": {},
   "outputs": [],
   "source": []
  },
  {
   "cell_type": "code",
   "execution_count": null,
   "id": "2875b570-4e0c-4c6f-907b-0aa04fa3979e",
   "metadata": {},
   "outputs": [],
   "source": []
  }
 ],
 "metadata": {
  "kernelspec": {
   "display_name": "Python 3 (ipykernel)",
   "language": "python",
   "name": "python3"
  },
  "language_info": {
   "codemirror_mode": {
    "name": "ipython",
    "version": 3
   },
   "file_extension": ".py",
   "mimetype": "text/x-python",
   "name": "python",
   "nbconvert_exporter": "python",
   "pygments_lexer": "ipython3",
   "version": "3.12.8"
  }
 },
 "nbformat": 4,
 "nbformat_minor": 5
}
