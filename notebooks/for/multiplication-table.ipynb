{
 "cells": [
  {
   "cell_type": "code",
   "execution_count": 1,
   "id": "45d7fee2-a147-4f62-902a-81ff7be0479f",
   "metadata": {},
   "outputs": [],
   "source": [
    "#Print the multiplication table of a number"
   ]
  },
  {
   "cell_type": "code",
   "execution_count": 4,
   "id": "6cde0920-2b37-4354-836f-32e9e162af66",
   "metadata": {},
   "outputs": [],
   "source": [
    "n= 5"
   ]
  },
  {
   "cell_type": "code",
   "execution_count": 14,
   "id": "c6fd5e9c-a520-4cde-8e49-97cd7913453c",
   "metadata": {},
   "outputs": [
    {
     "name": "stdin",
     "output_type": "stream",
     "text": [
      "enter the number:  8\n"
     ]
    }
   ],
   "source": [
    "n= int(input(\"enter the number: \"))\n",
    "\n",
    "\n"
   ]
  },
  {
   "cell_type": "code",
   "execution_count": 15,
   "id": "07b83f08-50c5-4769-bfdb-6100d620d348",
   "metadata": {},
   "outputs": [
    {
     "name": "stdout",
     "output_type": "stream",
     "text": [
      "8 * 1 = 8\n",
      "8 * 2 = 16\n",
      "8 * 3 = 24\n",
      "8 * 4 = 32\n",
      "8 * 5 = 40\n",
      "8 * 6 = 48\n",
      "8 * 7 = 56\n",
      "8 * 8 = 64\n",
      "8 * 9 = 72\n",
      "8 * 10 = 80\n"
     ]
    }
   ],
   "source": [
    "for i in range (1,11):\n",
    "    a= n*i\n",
    "    print (f\"{n} * {i} = {a}\")"
   ]
  },
  {
   "cell_type": "code",
   "execution_count": null,
   "id": "8e3bdb40-8a9b-44a9-8220-0f010d34ce47",
   "metadata": {},
   "outputs": [],
   "source": []
  }
 ],
 "metadata": {
  "kernelspec": {
   "display_name": "Python 3 (ipykernel)",
   "language": "python",
   "name": "python3"
  },
  "language_info": {
   "codemirror_mode": {
    "name": "ipython",
    "version": 3
   },
   "file_extension": ".py",
   "mimetype": "text/x-python",
   "name": "python",
   "nbconvert_exporter": "python",
   "pygments_lexer": "ipython3",
   "version": "3.12.8"
  }
 },
 "nbformat": 4,
 "nbformat_minor": 5
}
