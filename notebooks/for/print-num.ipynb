{
 "cells": [
  {
   "cell_type": "code",
   "execution_count": 3,
   "id": "38274535-d925-445f-b4bb-eca1a12288ae",
   "metadata": {},
   "outputs": [],
   "source": [
    "# Print numbers from 1 to 10     "
   ]
  },
  {
   "cell_type": "code",
   "execution_count": 4,
   "id": "cfd74a84-3bcc-4c3d-9b3b-b3ec5b7b1377",
   "metadata": {},
   "outputs": [
    {
     "name": "stdout",
     "output_type": "stream",
     "text": [
      "1\n",
      "2\n",
      "3\n",
      "4\n",
      "5\n",
      "6\n",
      "7\n",
      "8\n",
      "9\n",
      "10\n"
     ]
    }
   ],
   "source": [
    "for i in range (1,11):\n",
    "    print (i)"
   ]
  },
  {
   "cell_type": "code",
   "execution_count": null,
   "id": "e3a1a35a-e3ff-46de-9215-4f106cb0ea5b",
   "metadata": {},
   "outputs": [],
   "source": []
  }
 ],
 "metadata": {
  "kernelspec": {
   "display_name": "Python 3 (ipykernel)",
   "language": "python",
   "name": "python3"
  },
  "language_info": {
   "codemirror_mode": {
    "name": "ipython",
    "version": 3
   },
   "file_extension": ".py",
   "mimetype": "text/x-python",
   "name": "python",
   "nbconvert_exporter": "python",
   "pygments_lexer": "ipython3",
   "version": "3.12.8"
  }
 },
 "nbformat": 4,
 "nbformat_minor": 5
}
