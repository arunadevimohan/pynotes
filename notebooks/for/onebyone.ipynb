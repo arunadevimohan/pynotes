{
 "cells": [
  {
   "cell_type": "code",
   "execution_count": 1,
   "id": "03a14ac8-8147-4dad-b45b-efdd33bfb1d0",
   "metadata": {},
   "outputs": [],
   "source": [
    "#print hello world and good night one by one "
   ]
  },
  {
   "cell_type": "code",
   "execution_count": 2,
   "id": "dfb1297a-c178-48f3-bfef-4e5d2aee10ba",
   "metadata": {},
   "outputs": [],
   "source": [
    "name1= \"hello world\""
   ]
  },
  {
   "cell_type": "code",
   "execution_count": 3,
   "id": "267efaaf-d7b3-4185-b802-bfe6582f615a",
   "metadata": {},
   "outputs": [],
   "source": [
    "name2= \"good night\""
   ]
  },
  {
   "cell_type": "code",
   "execution_count": 7,
   "id": "f7b3afdf-3e46-4609-82c6-7990eaadf347",
   "metadata": {},
   "outputs": [
    {
     "name": "stdout",
     "output_type": "stream",
     "text": [
      "1 hello world\n",
      "1 good night\n",
      "2 hello world\n",
      "2 good night\n",
      "3 hello world\n",
      "3 good night\n",
      "4 hello world\n",
      "4 good night\n",
      "5 hello world\n",
      "5 good night\n"
     ]
    }
   ],
   "source": [
    "for i in range(1,6):\n",
    "    print( f\"{i} hello world\")\n",
    "    print( f\"{i} good night\") "
   ]
  },
  {
   "cell_type": "code",
   "execution_count": null,
   "id": "e4c3b93e-5d36-4778-87cc-d51cc724833b",
   "metadata": {},
   "outputs": [],
   "source": []
  }
 ],
 "metadata": {
  "kernelspec": {
   "display_name": "Python 3 (ipykernel)",
   "language": "python",
   "name": "python3"
  },
  "language_info": {
   "codemirror_mode": {
    "name": "ipython",
    "version": 3
   },
   "file_extension": ".py",
   "mimetype": "text/x-python",
   "name": "python",
   "nbconvert_exporter": "python",
   "pygments_lexer": "ipython3",
   "version": "3.12.8"
  }
 },
 "nbformat": 4,
 "nbformat_minor": 5
}
