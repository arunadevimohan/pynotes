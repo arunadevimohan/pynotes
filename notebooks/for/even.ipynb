{
 "cells": [
  {
   "cell_type": "code",
   "execution_count": 1,
   "id": "a9346391-c612-42a0-a328-cd2a79723c59",
   "metadata": {},
   "outputs": [],
   "source": [
    "#Print even numbers from 1 to 20"
   ]
  },
  {
   "cell_type": "code",
   "execution_count": 2,
   "id": "7cc44c8c-548a-4d06-bfe0-51bcd9ac7ad0",
   "metadata": {},
   "outputs": [],
   "source": [
    "a = 20"
   ]
  },
  {
   "cell_type": "code",
   "execution_count": 12,
   "id": "ef06b05e-efd1-4091-aca9-d51f08e21bc0",
   "metadata": {},
   "outputs": [
    {
     "name": "stdin",
     "output_type": "stream",
     "text": [
      "number:  20\n"
     ]
    }
   ],
   "source": [
    "a = int(input( \"number: \"))"
   ]
  },
  {
   "cell_type": "code",
   "execution_count": 13,
   "id": "0d8a928a-c7e9-423e-8ba3-5f22e476a692",
   "metadata": {},
   "outputs": [
    {
     "name": "stdout",
     "output_type": "stream",
     "text": [
      "2\n",
      "4\n",
      "6\n",
      "8\n",
      "10\n",
      "12\n",
      "14\n",
      "16\n",
      "18\n",
      "20\n"
     ]
    }
   ],
   "source": [
    "for i in range (1, 21):\n",
    "   if i %2 == 0:\n",
    "        print (i)"
   ]
  },
  {
   "cell_type": "code",
   "execution_count": null,
   "id": "eb1fd13b-28cc-44e4-b237-305352c6a919",
   "metadata": {},
   "outputs": [],
   "source": []
  }
 ],
 "metadata": {
  "kernelspec": {
   "display_name": "Python 3 (ipykernel)",
   "language": "python",
   "name": "python3"
  },
  "language_info": {
   "codemirror_mode": {
    "name": "ipython",
    "version": 3
   },
   "file_extension": ".py",
   "mimetype": "text/x-python",
   "name": "python",
   "nbconvert_exporter": "python",
   "pygments_lexer": "ipython3",
   "version": "3.12.8"
  }
 },
 "nbformat": 4,
 "nbformat_minor": 5
}
