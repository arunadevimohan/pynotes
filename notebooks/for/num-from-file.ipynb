{
 "cells": [
  {
   "cell_type": "code",
   "execution_count": 2,
   "id": "2fb27daa-ee52-4194-b786-ff8ee420f032",
   "metadata": {},
   "outputs": [],
   "source": [
    "#Write numbers from 1 to 10 to a file"
   ]
  },
  {
   "cell_type": "code",
   "execution_count": null,
   "id": "8d6b6b25-972f-4c23-b8ad-21d69e2975e2",
   "metadata": {},
   "outputs": [],
   "source": [
    "\n",
    "    "
   ]
  },
  {
   "cell_type": "code",
   "execution_count": null,
   "id": "f2fa34f5-c535-4ce0-9d3f-f54531f4236a",
   "metadata": {},
   "outputs": [],
   "source": []
  }
 ],
 "metadata": {
  "kernelspec": {
   "display_name": "Python 3 (ipykernel)",
   "language": "python",
   "name": "python3"
  },
  "language_info": {
   "codemirror_mode": {
    "name": "ipython",
    "version": 3
   },
   "file_extension": ".py",
   "mimetype": "text/x-python",
   "name": "python",
   "nbconvert_exporter": "python",
   "pygments_lexer": "ipython3",
   "version": "3.12.8"
  }
 },
 "nbformat": 4,
 "nbformat_minor": 5
}
