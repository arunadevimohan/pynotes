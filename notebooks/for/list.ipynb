{
 "cells": [
  {
   "cell_type": "code",
   "execution_count": 1,
   "id": "d91938f5-033e-487b-b538-ed71afd5d7b6",
   "metadata": {},
   "outputs": [],
   "source": [
    "#Find the sum of all elements in a list"
   ]
  },
  {
   "cell_type": "code",
   "execution_count": 2,
   "id": "70b10f92-4f88-4e16-b0d1-14251aa77883",
   "metadata": {},
   "outputs": [],
   "source": [
    "#Sum of list elements: 15"
   ]
  },
  {
   "cell_type": "code",
   "execution_count": 20,
   "id": "71c10ac1-58fe-4194-8ba7-c2540a21e622",
   "metadata": {},
   "outputs": [],
   "source": [
    "num = [ 1,2,3,4,5]"
   ]
  },
  {
   "cell_type": "code",
   "execution_count": 26,
   "id": "d8f8cc63-41dd-4305-9380-e41150f17025",
   "metadata": {},
   "outputs": [
    {
     "name": "stdout",
     "output_type": "stream",
     "text": [
      "15\n"
     ]
    }
   ],
   "source": [
    "a = sum(num)\n",
    "print (a)\n"
   ]
  },
  {
   "cell_type": "code",
   "execution_count": null,
   "id": "949bac9a-e488-4cee-907d-43259cad2606",
   "metadata": {},
   "outputs": [],
   "source": []
  }
 ],
 "metadata": {
  "kernelspec": {
   "display_name": "Python 3 (ipykernel)",
   "language": "python",
   "name": "python3"
  },
  "language_info": {
   "codemirror_mode": {
    "name": "ipython",
    "version": 3
   },
   "file_extension": ".py",
   "mimetype": "text/x-python",
   "name": "python",
   "nbconvert_exporter": "python",
   "pygments_lexer": "ipython3",
   "version": "3.12.8"
  }
 },
 "nbformat": 4,
 "nbformat_minor": 5
}
