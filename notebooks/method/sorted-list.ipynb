{
 "cells": [
  {
   "cell_type": "code",
   "execution_count": 1,
   "id": "2c6c47e5-bb83-4b12-ad4a-45759fc451af",
   "metadata": {},
   "outputs": [],
   "source": [
    "#Write a function to sort a list in ascending order."
   ]
  },
  {
   "cell_type": "code",
   "execution_count": null,
   "id": "2f21cf90-b911-41f6-8c21-65667840ff6c",
   "metadata": {},
   "outputs": [],
   "source": []
  },
  {
   "cell_type": "code",
   "execution_count": 8,
   "id": "b373f183-e198-4dd3-8e2a-738e6085c3a1",
   "metadata": {},
   "outputs": [],
   "source": [
    "def sort_list_ascending(lst):\n",
    "    lst.sort()\n",
    "    return lst"
   ]
  },
  {
   "cell_type": "code",
   "execution_count": 9,
   "id": "8f726d32-0336-4fed-a2f6-9e268f595233",
   "metadata": {},
   "outputs": [
    {
     "name": "stdout",
     "output_type": "stream",
     "text": [
      "[1, 1, 2, 3, 3, 4, 5, 5, 6, 9]\n",
      "[1, 2, 3, 4, 5, 6, 7, 8, 9]\n"
     ]
    }
   ],
   "source": [
    "print(sort_list_ascending([3, 1, 4, 1, 5, 9, 2, 6, 5, 3]))  # Expected output: [1, 1, 2, 3, 3, 4, 5, 5, 6, 9]\n",
    "print(sort_list_ascending([9, 8, 7, 6, 5, 4, 3, 2, 1]))  # Expected output: [1, 2, 3, 4, 5, 6, 7, 8, 9]\n"
   ]
  },
  {
   "cell_type": "code",
   "execution_count": null,
   "id": "6cd8b4f9-2aad-4e29-9036-df16188bd0ed",
   "metadata": {},
   "outputs": [],
   "source": []
  }
 ],
 "metadata": {
  "kernelspec": {
   "display_name": "Python 3 (ipykernel)",
   "language": "python",
   "name": "python3"
  },
  "language_info": {
   "codemirror_mode": {
    "name": "ipython",
    "version": 3
   },
   "file_extension": ".py",
   "mimetype": "text/x-python",
   "name": "python",
   "nbconvert_exporter": "python",
   "pygments_lexer": "ipython3",
   "version": "3.12.8"
  }
 },
 "nbformat": 4,
 "nbformat_minor": 5
}
