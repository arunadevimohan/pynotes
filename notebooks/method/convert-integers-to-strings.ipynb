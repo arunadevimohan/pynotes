{
 "cells": [
  {
   "cell_type": "code",
   "execution_count": 27,
   "id": "298bc169-0b62-476e-b67f-df75a1a343dc",
   "metadata": {},
   "outputs": [],
   "source": [
    "def convert_integers_to_strings(lst):\n",
    "    \"\"\"\n",
    "    Converts a list of integers to a list of strings.\n",
    "\n",
    "    Parameters:\n",
    "    lst (list): A list of integers to be converted.\n",
    "\n",
    "    Returns:\n",
    "    list: A list of strings converted from the integers.\n",
    "    \"\"\"\n",
    "    # TODO: Complete the implementation of this function\n",
    "    list = []\n",
    "    for num in lst:\n",
    "        list.append(str(num))\n",
    "    return list\n",
    "    "
   ]
  },
  {
   "cell_type": "code",
   "execution_count": 29,
   "id": "61b6cefc-3b0a-4932-9dfc-11de8f6bfe66",
   "metadata": {},
   "outputs": [
    {
     "name": "stdout",
     "output_type": "stream",
     "text": [
      "['1', '2', '3']\n",
      "['10', '20', '30']\n"
     ]
    }
   ],
   "source": [
    "\n",
    "# Sample test cases\n",
    "print(convert_integers_to_strings([1, 2, 3]))  # Expected output: ['1', '2', '3']\n",
    "print(convert_integers_to_strings([10, 20, 30]))  # Expected output: ['10', '20', '30']\n"
   ]
  },
  {
   "cell_type": "code",
   "execution_count": null,
   "id": "c5e7152c-fd09-488f-b016-74a77bbdb77e",
   "metadata": {},
   "outputs": [],
   "source": []
  }
 ],
 "metadata": {
  "kernelspec": {
   "display_name": "Python 3 (ipykernel)",
   "language": "python",
   "name": "python3"
  },
  "language_info": {
   "codemirror_mode": {
    "name": "ipython",
    "version": 3
   },
   "file_extension": ".py",
   "mimetype": "text/x-python",
   "name": "python",
   "nbconvert_exporter": "python",
   "pygments_lexer": "ipython3",
   "version": "3.12.8"
  }
 },
 "nbformat": 4,
 "nbformat_minor": 5
}
