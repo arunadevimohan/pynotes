{
 "cells": [
  {
   "cell_type": "code",
   "execution_count": 1,
   "id": "bbc3b880-f319-4712-acf5-8e1e3b0a001d",
   "metadata": {},
   "outputs": [],
   "source": [
    "def merge_dicts(dict1, dict2):\n",
    "    \"\"\"\n",
    "    Merge two dictionaries into one.\n",
    "\n",
    "    Parameters:\n",
    "    dict1 (dict): The first dictionary to be merged.\n",
    "    dict2 (dict): The second dictionary to be merged.\n",
    "\n",
    "    Returns:\n",
    "    dict: A new dictionary containing the merged key-value pairs from dict1 and dict2.\n",
    "    \"\"\"\n",
    "    \n",
    "    # Initialize an empty dictionary to store the merged result\n",
    "    \n",
    "    \n",
    "    # Loop through dict1 and add key-value pairs to the merged_dict\n",
    "    \n",
    "        \n",
    "    # Loop through dict2 and add key-value pairs to the merged_dict\n",
    "    merged_dict= {}\n",
    "    for key, value in dict1.items():\n",
    "        merged_dict[key] = value\n",
    "    for key, value in dict2.items():\n",
    "        merged_dict[key] = value\n",
    "    \n",
    "        \n",
    "    return merged_dict\n",
    "\n"
   ]
  },
  {
   "cell_type": "code",
   "execution_count": 3,
   "id": "081cc66d-d937-4443-a098-e96bc79a98b0",
   "metadata": {},
   "outputs": [
    {
     "name": "stdout",
     "output_type": "stream",
     "text": [
      "{'a': 1, 'b': 2, 'c': 3, 'd': 4}\n",
      "{'x': 10, 'y': 20, 'z': 30}\n"
     ]
    }
   ],
   "source": [
    "# Sample test cases\n",
    "print(merge_dicts({'a': 1, 'b': 2}, {'c': 3, 'd': 4}))  # Output: {'a': 1, 'b': 2, 'c': 3, 'd': 4}\n",
    "print(merge_dicts({'x': 10, 'y': 20}, {'z': 30}))  # Output: {'x': 10, 'y': 20, 'z': 30}\n"
   ]
  },
  {
   "cell_type": "code",
   "execution_count": null,
   "id": "0fba1782-dbfd-4da9-be11-8392c2d554bf",
   "metadata": {},
   "outputs": [],
   "source": []
  }
 ],
 "metadata": {
  "kernelspec": {
   "display_name": "Python 3 (ipykernel)",
   "language": "python",
   "name": "python3"
  },
  "language_info": {
   "codemirror_mode": {
    "name": "ipython",
    "version": 3
   },
   "file_extension": ".py",
   "mimetype": "text/x-python",
   "name": "python",
   "nbconvert_exporter": "python",
   "pygments_lexer": "ipython3",
   "version": "3.12.8"
  }
 },
 "nbformat": 4,
 "nbformat_minor": 5
}
