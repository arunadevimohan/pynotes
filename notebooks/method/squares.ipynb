{
 "cells": [
  {
   "cell_type": "code",
   "execution_count": 10,
   "id": "5698401d-38fd-4b2e-8d91-b07143af46a0",
   "metadata": {},
   "outputs": [],
   "source": [
    "def generate_squares(n):\n",
    "    squares = [ i**2 for i in range(1, n+1)]\n",
    "    return squares"
   ]
  },
  {
   "cell_type": "code",
   "execution_count": 11,
   "id": "52fc3838-7842-44a5-94d7-6cb6307fab33",
   "metadata": {},
   "outputs": [
    {
     "name": "stdout",
     "output_type": "stream",
     "text": [
      "[1, 4, 9, 16, 25, 36]\n"
     ]
    }
   ],
   "source": [
    "print(generate_squares(6))"
   ]
  },
  {
   "cell_type": "code",
   "execution_count": 12,
   "id": "d848165b-b7a3-4573-923a-55a39fd494a4",
   "metadata": {},
   "outputs": [
    {
     "name": "stdout",
     "output_type": "stream",
     "text": [
      "[1, 4, 9, 16]\n"
     ]
    }
   ],
   "source": [
    "print(generate_squares(4))"
   ]
  },
  {
   "cell_type": "code",
   "execution_count": null,
   "id": "2378d021-4088-4b4c-b83a-89cee73b81a6",
   "metadata": {},
   "outputs": [],
   "source": []
  }
 ],
 "metadata": {
  "kernelspec": {
   "display_name": "Python 3 (ipykernel)",
   "language": "python",
   "name": "python3"
  },
  "language_info": {
   "codemirror_mode": {
    "name": "ipython",
    "version": 3
   },
   "file_extension": ".py",
   "mimetype": "text/x-python",
   "name": "python",
   "nbconvert_exporter": "python",
   "pygments_lexer": "ipython3",
   "version": "3.12.8"
  }
 },
 "nbformat": 4,
 "nbformat_minor": 5
}
