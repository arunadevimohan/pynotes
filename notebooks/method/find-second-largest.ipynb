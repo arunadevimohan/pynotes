{
 "cells": [
  {
   "cell_type": "code",
   "execution_count": 27,
   "id": "b35b57a6-cfd0-4661-b39e-84ec7a4e9e88",
   "metadata": {},
   "outputs": [],
   "source": [
    "def find_second_largest(arr):\n",
    "    \"\"\"\n",
    "    Given a list of integers, find the second largest number in the list.\n",
    "\n",
    "    Parameters:\n",
    "    arr (list): A list of integers\n",
    "\n",
    "    Returns:\n",
    "    int: The second largest number in the list\n",
    "    \"\"\"\n",
    "    # Sort the list in descending order\n",
    "    arr.sort(reverse= True)\n",
    "    #return arr\n",
    "    len(arr) == len(arr)<2\n",
    "# Return the second element in the sorted list    \n",
    "    for i in range(1,len(arr)):\n",
    "        if arr[i] != arr[0]:\n",
    "            return arr[i]\n",
    "    \n",
    "    \n",
    "    \n",
    "\n"
   ]
  },
  {
   "cell_type": "code",
   "execution_count": 29,
   "id": "21c3b42c-6e51-4be4-9bc4-6538789a0f20",
   "metadata": {},
   "outputs": [
    {
     "name": "stdout",
     "output_type": "stream",
     "text": [
      "4\n",
      "20\n"
     ]
    }
   ],
   "source": [
    "# Sample test cases\n",
    "print(find_second_largest([1, 2, 3, 4, 5])) # Expected output: 4\n",
    "print(find_second_largest([10, 5, 20, 15, 30])) # Expected output: 20\n"
   ]
  },
  {
   "cell_type": "code",
   "execution_count": null,
   "id": "9f61f6b3-3aea-49d2-a5cf-2fdb0bdb02a8",
   "metadata": {},
   "outputs": [],
   "source": []
  }
 ],
 "metadata": {
  "kernelspec": {
   "display_name": "Python 3 (ipykernel)",
   "language": "python",
   "name": "python3"
  },
  "language_info": {
   "codemirror_mode": {
    "name": "ipython",
    "version": 3
   },
   "file_extension": ".py",
   "mimetype": "text/x-python",
   "name": "python",
   "nbconvert_exporter": "python",
   "pygments_lexer": "ipython3",
   "version": "3.12.8"
  }
 },
 "nbformat": 4,
 "nbformat_minor": 5
}
