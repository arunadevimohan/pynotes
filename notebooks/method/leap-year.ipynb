{
 "cells": [
  {
   "cell_type": "code",
   "execution_count": 1,
   "id": "920a891e-9384-4d46-9aaa-43271590fd89",
   "metadata": {},
   "outputs": [],
   "source": [
    "def is_leap_year(year):\n",
    "    \"\"\"\n",
    "    Given a year, check if it is a leap year.\n",
    "\n",
    "    Parameters:\n",
    "    year (int): The year to be checked.\n",
    "\n",
    "    Returns:\n",
    "    bool: True if the year is a leap year, False otherwise.\n",
    "    \"\"\"\n",
    " # Check if the year is divisible by 4\n",
    "   \n",
    "    \n",
    "    if year %4 == 0 :\n",
    "        return True\n",
    "    else:\n",
    "        \n",
    "        return False\n",
    "        \n"
   ]
  },
  {
   "cell_type": "code",
   "execution_count": 3,
   "id": "96aff411-9aac-494b-8d0e-454656623b65",
   "metadata": {},
   "outputs": [
    {
     "name": "stdout",
     "output_type": "stream",
     "text": [
      "True\n",
      "True\n",
      "False\n"
     ]
    }
   ],
   "source": [
    "# Sample test cases\n",
    "print(is_leap_year(2000)) # Expected output: True\n",
    "print(is_leap_year(1900)) # Expected output: False\n",
    "print(is_leap_year(2021)) # Expected output: False\n"
   ]
  },
  {
   "cell_type": "code",
   "execution_count": null,
   "id": "c7ab2bdf-56d9-4444-ac4e-dbce15ee3bec",
   "metadata": {},
   "outputs": [],
   "source": []
  }
 ],
 "metadata": {
  "kernelspec": {
   "display_name": "Python 3 (ipykernel)",
   "language": "python",
   "name": "python3"
  },
  "language_info": {
   "codemirror_mode": {
    "name": "ipython",
    "version": 3
   },
   "file_extension": ".py",
   "mimetype": "text/x-python",
   "name": "python",
   "nbconvert_exporter": "python",
   "pygments_lexer": "ipython3",
   "version": "3.12.8"
  }
 },
 "nbformat": 4,
 "nbformat_minor": 5
}
