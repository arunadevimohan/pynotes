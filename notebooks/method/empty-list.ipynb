{
 "cells": [
  {
   "cell_type": "code",
   "execution_count": 18,
   "id": "8f0f7aeb-06b8-4b74-aa5c-a950dbd96eed",
   "metadata": {},
   "outputs": [],
   "source": [
    "lst= []"
   ]
  },
  {
   "cell_type": "code",
   "execution_count": 21,
   "id": "ddf04c95-276e-49f7-b235-7abd10f4dbd8",
   "metadata": {},
   "outputs": [],
   "source": [
    "def is_list_empty(lst):\n",
    " return len(lst) == 0 "
   ]
  },
  {
   "cell_type": "code",
   "execution_count": 22,
   "id": "765107cc-5ee7-4a2b-85bf-6f3affcbd701",
   "metadata": {},
   "outputs": [
    {
     "name": "stdout",
     "output_type": "stream",
     "text": [
      "True\n"
     ]
    }
   ],
   "source": [
    "\n",
    "print(is_list_empty([]))\n"
   ]
  },
  {
   "cell_type": "code",
   "execution_count": 23,
   "id": "a633d1d8-fbb7-48f0-98f0-2541ec3406be",
   "metadata": {},
   "outputs": [
    {
     "name": "stdout",
     "output_type": "stream",
     "text": [
      "False\n"
     ]
    }
   ],
   "source": [
    "print(is_list_empty([1, 2, 3]))"
   ]
  },
  {
   "cell_type": "code",
   "execution_count": null,
   "id": "5bb19e03-e1a5-4ebb-98a5-bc6876b74281",
   "metadata": {},
   "outputs": [],
   "source": []
  }
 ],
 "metadata": {
  "kernelspec": {
   "display_name": "Python 3 (ipykernel)",
   "language": "python",
   "name": "python3"
  },
  "language_info": {
   "codemirror_mode": {
    "name": "ipython",
    "version": 3
   },
   "file_extension": ".py",
   "mimetype": "text/x-python",
   "name": "python",
   "nbconvert_exporter": "python",
   "pygments_lexer": "ipython3",
   "version": "3.12.8"
  }
 },
 "nbformat": 4,
 "nbformat_minor": 5
}
