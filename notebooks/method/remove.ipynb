{
 "cells": [
  {
   "cell_type": "code",
   "execution_count": 11,
   "id": "ddf79ea4-4d22-4d1d-841f-3d4aa0045a01",
   "metadata": {},
   "outputs": [],
   "source": [
    "def remove_element(lst, value):\n",
    "    lst.remove(value)\n",
    "    return lst\n",
    "                      "
   ]
  },
  {
   "cell_type": "code",
   "execution_count": 12,
   "id": "0412d7cb-26a3-4394-8a73-780a8e7c04ce",
   "metadata": {},
   "outputs": [
    {
     "name": "stdout",
     "output_type": "stream",
     "text": [
      "[1, 2, 4, 5]\n"
     ]
    }
   ],
   "source": [
    "print(remove_element([1, 2, 3, 4, 5], 3)) "
   ]
  },
  {
   "cell_type": "code",
   "execution_count": 13,
   "id": "fc578a22-576b-44f0-95fb-cce2f53cc6ce",
   "metadata": {},
   "outputs": [
    {
     "name": "stdout",
     "output_type": "stream",
     "text": [
      "['a', 'c', 'd', 'e']\n"
     ]
    }
   ],
   "source": [
    "print(remove_element(['a', 'b', 'c', 'd', 'e'], 'b'))"
   ]
  },
  {
   "cell_type": "code",
   "execution_count": null,
   "id": "56001962-e9da-4cba-be44-4dec0e992616",
   "metadata": {},
   "outputs": [],
   "source": []
  }
 ],
 "metadata": {
  "kernelspec": {
   "display_name": "Python 3 (ipykernel)",
   "language": "python",
   "name": "python3"
  },
  "language_info": {
   "codemirror_mode": {
    "name": "ipython",
    "version": 3
   },
   "file_extension": ".py",
   "mimetype": "text/x-python",
   "name": "python",
   "nbconvert_exporter": "python",
   "pygments_lexer": "ipython3",
   "version": "3.12.8"
  }
 },
 "nbformat": 4,
 "nbformat_minor": 5
}
