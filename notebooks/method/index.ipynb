{
 "cells": [
  {
   "cell_type": "code",
   "execution_count": 11,
   "id": "9fc5b0f3-595e-47bf-8c88-840c13bbb8cb",
   "metadata": {},
   "outputs": [],
   "source": [
    "def find_index(item, lst):\n",
    "   \n",
    "    if item in lst:\n",
    "        return lst.index(item)\n",
    "    else:\n",
    "        return -1"
   ]
  },
  {
   "cell_type": "code",
   "execution_count": 12,
   "id": "79b689f0-113f-492e-8e4a-e5b0cec5fdca",
   "metadata": {},
   "outputs": [
    {
     "name": "stdout",
     "output_type": "stream",
     "text": [
      "2\n"
     ]
    }
   ],
   "source": [
    "print(find_index(3, [1, 2, 3, 4, 5]))"
   ]
  },
  {
   "cell_type": "code",
   "execution_count": 13,
   "id": "a290f482-f196-4e8c-9eba-79f3170fc5c1",
   "metadata": {},
   "outputs": [
    {
     "name": "stdout",
     "output_type": "stream",
     "text": [
      "0\n"
     ]
    }
   ],
   "source": [
    "print(find_index('a', ['a', 'b', 'c'])) "
   ]
  },
  {
   "cell_type": "code",
   "execution_count": 14,
   "id": "f6c125fa-d8ff-4ccf-a532-3795f7bbb95d",
   "metadata": {},
   "outputs": [
    {
     "name": "stdout",
     "output_type": "stream",
     "text": [
      "-1\n"
     ]
    }
   ],
   "source": [
    "print(find_index(6, [1, 2, 3, 4, 5]))"
   ]
  },
  {
   "cell_type": "code",
   "execution_count": null,
   "id": "5d327fa6-cb0d-415b-a640-5f5205edb765",
   "metadata": {},
   "outputs": [],
   "source": []
  }
 ],
 "metadata": {
  "kernelspec": {
   "display_name": "Python 3 (ipykernel)",
   "language": "python",
   "name": "python3"
  },
  "language_info": {
   "codemirror_mode": {
    "name": "ipython",
    "version": 3
   },
   "file_extension": ".py",
   "mimetype": "text/x-python",
   "name": "python",
   "nbconvert_exporter": "python",
   "pygments_lexer": "ipython3",
   "version": "3.12.8"
  }
 },
 "nbformat": 4,
 "nbformat_minor": 5
}
