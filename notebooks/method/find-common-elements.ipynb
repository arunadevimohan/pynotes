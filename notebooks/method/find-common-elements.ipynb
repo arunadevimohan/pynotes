{
 "cells": [
  {
   "cell_type": "code",
   "execution_count": 17,
   "id": "0e93206d-46f9-47b8-91a5-dc51b306b091",
   "metadata": {},
   "outputs": [],
   "source": [
    "def find_common_elements(list1, list2):\n",
    "    \"\"\"\n",
    "    Problem: Write a function to find the common elements in two lists.\n",
    "\n",
    "    Args:\n",
    "    list1: First list of elements\n",
    "    list2: Second list of elements\n",
    "\n",
    "    Returns:\n",
    "    List of common elements between list1 and list2\n",
    "    \"\"\"\n",
    "\n",
    "    # Initialize an empty list to store common elements\n",
    "    lst = []\n",
    "    #return lst\n",
    "    for item in list1 :\n",
    "        if item in list2 and item not in lst:\n",
    "            lst.append(item)\n",
    "    return lst\n",
    "    \n",
    "    \n",
    "\n"
   ]
  },
  {
   "cell_type": "code",
   "execution_count": 19,
   "id": "de6293c0-f2b7-43ad-8932-3f162885e6c2",
   "metadata": {},
   "outputs": [
    {
     "name": "stdout",
     "output_type": "stream",
     "text": [
      "[4, 5]\n",
      "[]\n"
     ]
    }
   ],
   "source": [
    "# Sample test cases\n",
    "print(find_common_elements([1, 2, 3, 4, 5], [4, 5, 6, 7, 8]))  # Output should be [4, 5]\n",
    "print(find_common_elements([1, 2, 3], [4, 5, 6]))  # Output should be []\n"
   ]
  },
  {
   "cell_type": "code",
   "execution_count": null,
   "id": "0e8887c5-582f-416c-a9ff-aaacd3d6e395",
   "metadata": {},
   "outputs": [],
   "source": []
  }
 ],
 "metadata": {
  "kernelspec": {
   "display_name": "Python 3 (ipykernel)",
   "language": "python",
   "name": "python3"
  },
  "language_info": {
   "codemirror_mode": {
    "name": "ipython",
    "version": 3
   },
   "file_extension": ".py",
   "mimetype": "text/x-python",
   "name": "python",
   "nbconvert_exporter": "python",
   "pygments_lexer": "ipython3",
   "version": "3.12.8"
  }
 },
 "nbformat": 4,
 "nbformat_minor": 5
}
