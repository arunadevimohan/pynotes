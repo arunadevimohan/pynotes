{
 "cells": [
  {
   "cell_type": "code",
   "execution_count": 7,
   "id": "990e94d5-960f-475c-806f-12dc19d42157",
   "metadata": {},
   "outputs": [],
   "source": [
    "def convert_to_uppercase(s):\n",
    "    \"\"\"\n",
    "    Converts a given string to uppercase.\n",
    "\n",
    "    Parameters:\n",
    "    s (str): The input string to be converted.\n",
    "\n",
    "    Returns:\n",
    "    str: The input string converted to uppercase.\n",
    "    \"\"\"\n",
    "\n",
    "    # TODO: Implement the function to convert the string to uppercase\n",
    "\n",
    "    all_upper = s.upper()\n",
    "    \n",
    "    return all_upper\n",
    "\n"
   ]
  },
  {
   "cell_type": "code",
   "execution_count": 9,
   "id": "4dfba8ab-4b42-4b31-a3ad-ae7072870db7",
   "metadata": {},
   "outputs": [
    {
     "name": "stdout",
     "output_type": "stream",
     "text": [
      "HELLO\n",
      "PYTHON\n"
     ]
    }
   ],
   "source": [
    "# Sample test cases\n",
    "print(convert_to_uppercase(\"hello\"))  # Expected output: \"HELLO\"\n",
    "print(convert_to_uppercase(\"Python\"))  # Expected output: \"PYTHON\"\n"
   ]
  },
  {
   "cell_type": "code",
   "execution_count": null,
   "id": "4d570d25-899b-42f2-99b5-3b278c2c6074",
   "metadata": {},
   "outputs": [],
   "source": []
  },
  {
   "cell_type": "code",
   "execution_count": null,
   "id": "d2a643cc-b355-4aee-a748-b9b443b6955e",
   "metadata": {},
   "outputs": [],
   "source": []
  }
 ],
 "metadata": {
  "kernelspec": {
   "display_name": "Python 3 (ipykernel)",
   "language": "python",
   "name": "python3"
  },
  "language_info": {
   "codemirror_mode": {
    "name": "ipython",
    "version": 3
   },
   "file_extension": ".py",
   "mimetype": "text/x-python",
   "name": "python",
   "nbconvert_exporter": "python",
   "pygments_lexer": "ipython3",
   "version": "3.12.8"
  }
 },
 "nbformat": 4,
 "nbformat_minor": 5
}
