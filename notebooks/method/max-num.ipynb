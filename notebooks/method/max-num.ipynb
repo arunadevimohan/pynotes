{
 "cells": [
  {
   "cell_type": "code",
   "execution_count": 1,
   "id": "895bdbe9-37dd-4a8e-be59-27ab47e78b1b",
   "metadata": {},
   "outputs": [],
   "source": [
    "def find_max_number(nums):\n",
    "    if nums:\n",
    "        return max(nums)\n",
    "    else: \n",
    "        return none"
   ]
  },
  {
   "cell_type": "code",
   "execution_count": 2,
   "id": "2166a32c-7a94-4b3a-961f-654d538c68ed",
   "metadata": {},
   "outputs": [
    {
     "name": "stdout",
     "output_type": "stream",
     "text": [
      "5\n"
     ]
    }
   ],
   "source": [
    "print(find_max_number([1, 2, 3, 4, 5]))"
   ]
  },
  {
   "cell_type": "code",
   "execution_count": 3,
   "id": "90c68fb5-0d26-412c-bb89-df5767ead310",
   "metadata": {},
   "outputs": [
    {
     "name": "stdout",
     "output_type": "stream",
     "text": [
      "-1\n"
     ]
    }
   ],
   "source": [
    "print(find_max_number([-1, -2, -3, -4, -5]))"
   ]
  },
  {
   "cell_type": "code",
   "execution_count": 4,
   "id": "12537318-5d2e-4aae-bc3a-c84c2c410a07",
   "metadata": {},
   "outputs": [
    {
     "name": "stdout",
     "output_type": "stream",
     "text": [
      "9\n"
     ]
    }
   ],
   "source": [
    "print(find_max_number([5, 3, 9, 2, 7]))"
   ]
  },
  {
   "cell_type": "code",
   "execution_count": null,
   "id": "9336edc7-6d38-4346-91d2-12ec288851ae",
   "metadata": {},
   "outputs": [],
   "source": []
  }
 ],
 "metadata": {
  "kernelspec": {
   "display_name": "Python 3 (ipykernel)",
   "language": "python",
   "name": "python3"
  },
  "language_info": {
   "codemirror_mode": {
    "name": "ipython",
    "version": 3
   },
   "file_extension": ".py",
   "mimetype": "text/x-python",
   "name": "python",
   "nbconvert_exporter": "python",
   "pygments_lexer": "ipython3",
   "version": "3.12.8"
  }
 },
 "nbformat": 4,
 "nbformat_minor": 5
}
