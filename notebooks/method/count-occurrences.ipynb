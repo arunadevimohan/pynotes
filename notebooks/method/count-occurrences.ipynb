{
 "cells": [
  {
   "cell_type": "code",
   "execution_count": 4,
   "id": "82d2e80c-638c-4fff-82d1-275ae3e48e3d",
   "metadata": {},
   "outputs": [],
   "source": [
    "def count_occurrences(lst, item):\n",
    "    \"\"\"\n",
    "    Count the occurrences of an item in a list.\n",
    "\n",
    "    Parameters:\n",
    "    lst (list): The list to search for occurrences.\n",
    "    item: The item to count occurrences of.\n",
    "\n",
    "    Returns:\n",
    "    int: The number of occurrences of the item in the list.\n",
    "    \"\"\"\n",
    "    \n",
    "    # TODO: Implement the function\n",
    "    occurrences = lst.count(item)\n",
    "    return occurrences\n",
    "\n"
   ]
  },
  {
   "cell_type": "code",
   "execution_count": 6,
   "id": "07070de1-440f-48ec-b687-5a281ef10cda",
   "metadata": {},
   "outputs": [
    {
     "name": "stdout",
     "output_type": "stream",
     "text": [
      "3\n",
      "3\n"
     ]
    }
   ],
   "source": [
    "# Sample test cases\n",
    "print(count_occurrences([1, 2, 2, 3, 4, 2], 2))  # Output: 3\n",
    "print(count_occurrences(['a', 'b', 'c', 'a', 'a'], 'a'))  # Output: 3\n"
   ]
  },
  {
   "cell_type": "code",
   "execution_count": null,
   "id": "338c900b-56cd-4b5e-b66e-d4ba91a3b3f8",
   "metadata": {},
   "outputs": [],
   "source": []
  }
 ],
 "metadata": {
  "kernelspec": {
   "display_name": "Python 3 (ipykernel)",
   "language": "python",
   "name": "python3"
  },
  "language_info": {
   "codemirror_mode": {
    "name": "ipython",
    "version": 3
   },
   "file_extension": ".py",
   "mimetype": "text/x-python",
   "name": "python",
   "nbconvert_exporter": "python",
   "pygments_lexer": "ipython3",
   "version": "3.12.8"
  }
 },
 "nbformat": 4,
 "nbformat_minor": 5
}
