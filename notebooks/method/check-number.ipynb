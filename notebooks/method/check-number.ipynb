{
 "cells": [
  {
   "cell_type": "code",
   "execution_count": 5,
   "id": "f2b03630-3d8e-42fd-9fad-f769676c7210",
   "metadata": {},
   "outputs": [],
   "source": [
    "def check_number(num):\n",
    "    \"\"\"\n",
    "    This function checks if a number is positive, negative, or zero.\n",
    "\n",
    "    Parameters:\n",
    "    num (int): The number to be checked.\n",
    "\n",
    "    Returns:\n",
    "    str: 'Positive' if the number is positive, 'Negative' if the number is negative, 'Zero' if the number is zero.\n",
    "    \"\"\"\n",
    "    \n",
    "    # Implement the function here\n",
    "    if num >0:\n",
    "        return \"'Positive'\"\n",
    "    elif num < 0:\n",
    "        return \"'Negative'\"\n",
    "    else: \n",
    "        return \"'Zero'\"\n"
   ]
  },
  {
   "cell_type": "code",
   "execution_count": 6,
   "id": "111ecf39-52c1-4e12-8202-b9674961ea7b",
   "metadata": {},
   "outputs": [
    {
     "name": "stdout",
     "output_type": "stream",
     "text": [
      "'Positive'\n",
      "'Negative'\n",
      "'Zero'\n"
     ]
    }
   ],
   "source": [
    "# Sample test cases\n",
    "print(check_number(5))  # Expected output: 'Positive'\n",
    "print(check_number(-3))  # Expected output: 'Negative'\n",
    "print(check_number(0))  # Expected output: 'Zero'\n"
   ]
  },
  {
   "cell_type": "code",
   "execution_count": null,
   "id": "2dd05513-2356-451b-a8c5-932bad879630",
   "metadata": {},
   "outputs": [],
   "source": []
  },
  {
   "cell_type": "code",
   "execution_count": null,
   "id": "1a770393-62b1-495e-985b-7bece95ccb56",
   "metadata": {},
   "outputs": [],
   "source": []
  }
 ],
 "metadata": {
  "kernelspec": {
   "display_name": "Python 3 (ipykernel)",
   "language": "python",
   "name": "python3"
  },
  "language_info": {
   "codemirror_mode": {
    "name": "ipython",
    "version": 3
   },
   "file_extension": ".py",
   "mimetype": "text/x-python",
   "name": "python",
   "nbconvert_exporter": "python",
   "pygments_lexer": "ipython3",
   "version": "3.12.8"
  }
 },
 "nbformat": 4,
 "nbformat_minor": 5
}
