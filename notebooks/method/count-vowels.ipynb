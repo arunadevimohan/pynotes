{
 "cells": [
  {
   "cell_type": "code",
   "execution_count": 1,
   "id": "8df90382-ff73-4a65-9848-78f13e37d486",
   "metadata": {},
   "outputs": [],
   "source": [
    "#Write a function to count the vowels in a string."
   ]
  },
  {
   "cell_type": "code",
   "execution_count": 21,
   "id": "7bfb5bb4-b386-4a52-83bf-4b9d66208d3c",
   "metadata": {},
   "outputs": [],
   "source": [
    "def count_vowels(s):\n",
    "    vowels = \"a,e,i,o,u\"\n",
    "    vowel_count = dict.fromkeys('aeiou',0)\n",
    "    \n",
    "    for x in vowels:\n",
    "        vowel_count[x] = s.count(x)\n",
    "       \n",
    "    return sum(vowel_count.values())\n",
    "       \n",
    "    "
   ]
  },
  {
   "cell_type": "code",
   "execution_count": 22,
   "id": "3356fb1a-189a-4272-b1f9-3f1beab98133",
   "metadata": {},
   "outputs": [
    {
     "name": "stdout",
     "output_type": "stream",
     "text": [
      "2\n"
     ]
    }
   ],
   "source": [
    "print(count_vowels(\"hello\"))"
   ]
  },
  {
   "cell_type": "code",
   "execution_count": 23,
   "id": "bca30998-09ef-4cf7-a1d6-4dc0e0353465",
   "metadata": {},
   "outputs": [
    {
     "name": "stdout",
     "output_type": "stream",
     "text": [
      "1\n"
     ]
    }
   ],
   "source": [
    " print(count_vowels(\"Python\"))"
   ]
  },
  {
   "cell_type": "code",
   "execution_count": 24,
   "id": "a04e0aab-bb1c-450f-be5d-5dbab55b9fcd",
   "metadata": {},
   "outputs": [
    {
     "name": "stdout",
     "output_type": "stream",
     "text": [
      "3\n"
     ]
    }
   ],
   "source": [
    "print(count_vowels(\"programming\")) "
   ]
  },
  {
   "cell_type": "code",
   "execution_count": null,
   "id": "39a840f4-6821-434a-82a7-294f69d147e5",
   "metadata": {},
   "outputs": [],
   "source": []
  }
 ],
 "metadata": {
  "kernelspec": {
   "display_name": "Python 3 (ipykernel)",
   "language": "python",
   "name": "python3"
  },
  "language_info": {
   "codemirror_mode": {
    "name": "ipython",
    "version": 3
   },
   "file_extension": ".py",
   "mimetype": "text/x-python",
   "name": "python",
   "nbconvert_exporter": "python",
   "pygments_lexer": "ipython3",
   "version": "3.12.8"
  }
 },
 "nbformat": 4,
 "nbformat_minor": 5
}
