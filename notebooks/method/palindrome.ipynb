{
 "cells": [
  {
   "cell_type": "code",
   "execution_count": 40,
   "id": "c3807618-e0a9-4e91-ac74-c2de263d8031",
   "metadata": {},
   "outputs": [],
   "source": [
    "def is_palindrome(s):\n",
    "    \"\"\"\n",
    "    Problem: Write a function to check if a string is a palindrome.\n",
    "    \n",
    "    Args:\n",
    "    s: input string to be checked\n",
    "    \n",
    "    Returns:\n",
    "    True if the string is a palindrome, False otherwise\n",
    "    \"\"\"\n",
    "    \n",
    "    # Half-implemented function\n",
    "    # Implement the logic here\n",
    "    if s == s [::-1]:\n",
    "        return True\n",
    "    else:\n",
    "        return False\n",
    "\n",
    "    \n",
    "            \n"
   ]
  },
  {
   "cell_type": "code",
   "execution_count": 42,
   "id": "bce8c0e5-b0a8-4c9c-8b5a-7029d8e4bfea",
   "metadata": {},
   "outputs": [
    {
     "name": "stdout",
     "output_type": "stream",
     "text": [
      "True\n",
      "False\n",
      "True\n"
     ]
    }
   ],
   "source": [
    "# Sample test cases\n",
    "print(is_palindrome(\"racecar\"))  # True\n",
    "print(is_palindrome(\"hello\"))    # False\n",
    "print(is_palindrome(\"level\"))    # True\n"
   ]
  },
  {
   "cell_type": "code",
   "execution_count": null,
   "id": "516e3012-ad15-4430-9ddf-8a5bc62494c3",
   "metadata": {},
   "outputs": [],
   "source": []
  }
 ],
 "metadata": {
  "kernelspec": {
   "display_name": "Python 3 (ipykernel)",
   "language": "python",
   "name": "python3"
  },
  "language_info": {
   "codemirror_mode": {
    "name": "ipython",
    "version": 3
   },
   "file_extension": ".py",
   "mimetype": "text/x-python",
   "name": "python",
   "nbconvert_exporter": "python",
   "pygments_lexer": "ipython3",
   "version": "3.12.8"
  }
 },
 "nbformat": 4,
 "nbformat_minor": 5
}
