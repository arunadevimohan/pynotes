{
 "cells": [
  {
   "cell_type": "code",
   "execution_count": 7,
   "id": "0cbcb964-84ec-4c13-b68d-cffe90a50563",
   "metadata": {},
   "outputs": [],
   "source": [
    "def find_smallest_number(nums):\n",
    "    \"\"\"\n",
    "    This function finds the smallest number in a list.\n",
    "\n",
    "    Parameters:\n",
    "    nums (list): A list of numbers\n",
    "\n",
    "    Returns:\n",
    "    int: The smallest number in the list\n",
    "    \"\"\"\n",
    "    \n",
    "    # TODO: Implement the function\n",
    "    \n",
    "    nums.sort()\n",
    "    return nums[0]\n",
    "   \n",
    "  \n",
    "   \n"
   ]
  },
  {
   "cell_type": "code",
   "execution_count": 9,
   "id": "e9469f94-e624-4821-8598-46f81c479149",
   "metadata": {},
   "outputs": [
    {
     "name": "stdout",
     "output_type": "stream",
     "text": [
      "1\n",
      "-5\n"
     ]
    }
   ],
   "source": [
    "# Sample test cases\n",
    "print(find_smallest_number([5, 3, 8, 1, 9])) # Expected output: 1\n",
    "print(find_smallest_number([-2, 0, 4, -5, 3])) # Expected output: -5\n"
   ]
  },
  {
   "cell_type": "code",
   "execution_count": null,
   "id": "5a3b30cf-279a-4cee-a1ea-fc97254b7ef5",
   "metadata": {},
   "outputs": [],
   "source": []
  }
 ],
 "metadata": {
  "kernelspec": {
   "display_name": "Python 3 (ipykernel)",
   "language": "python",
   "name": "python3"
  },
  "language_info": {
   "codemirror_mode": {
    "name": "ipython",
    "version": 3
   },
   "file_extension": ".py",
   "mimetype": "text/x-python",
   "name": "python",
   "nbconvert_exporter": "python",
   "pygments_lexer": "ipython3",
   "version": "3.12.8"
  }
 },
 "nbformat": 4,
 "nbformat_minor": 5
}
