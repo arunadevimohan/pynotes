{
 "cells": [
  {
   "cell_type": "code",
   "execution_count": 20,
   "id": "17ed3fa0-1849-4ac9-9392-465bd893ee4d",
   "metadata": {},
   "outputs": [],
   "source": [
    "import math"
   ]
  },
  {
   "cell_type": "code",
   "execution_count": 21,
   "id": "a39093ef-736e-4723-9882-dbdaf98e12da",
   "metadata": {},
   "outputs": [],
   "source": [
    "def calculate_circle_area(radius):\n",
    "    \"\"\"\n",
    "    Calculate the area of a circle given its radius.\n",
    "\n",
    "    Parameters:\n",
    "    radius (float): The radius of the circle.\n",
    "\n",
    "    Returns:\n",
    "    float: The area of the circle.\n",
    "    \"\"\"\n",
    "    \n",
    "    circle_radius = float(math.pi*radius **2)\n",
    "    return circle_radius\n",
    "\n"
   ]
  },
  {
   "cell_type": "code",
   "execution_count": 22,
   "id": "4f2dd485-d3a5-42c8-adcb-84a46e40833c",
   "metadata": {},
   "outputs": [
    {
     "name": "stdout",
     "output_type": "stream",
     "text": [
      "78.53981633974483\n",
      "314.1592653589793\n"
     ]
    }
   ],
   "source": [
    "\n",
    "# Sample test cases\n",
    "print(calculate_circle_area(5))  # Expected output: 78.53975\n",
    "print(calculate_circle_area(10))  # Expected output: 314.159\n"
   ]
  },
  {
   "cell_type": "code",
   "execution_count": null,
   "id": "56173e7c-2b11-41b2-ab62-a56ae5b7f03d",
   "metadata": {},
   "outputs": [],
   "source": []
  },
  {
   "cell_type": "code",
   "execution_count": null,
   "id": "0b2c5e34-81de-4762-bdba-8af514bad5e0",
   "metadata": {},
   "outputs": [],
   "source": []
  }
 ],
 "metadata": {
  "kernelspec": {
   "display_name": "Python 3 (ipykernel)",
   "language": "python",
   "name": "python3"
  },
  "language_info": {
   "codemirror_mode": {
    "name": "ipython",
    "version": 3
   },
   "file_extension": ".py",
   "mimetype": "text/x-python",
   "name": "python",
   "nbconvert_exporter": "python",
   "pygments_lexer": "ipython3",
   "version": "3.12.8"
  }
 },
 "nbformat": 4,
 "nbformat_minor": 5
}
