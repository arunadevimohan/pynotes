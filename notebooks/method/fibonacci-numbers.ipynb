{
 "cells": [
  {
   "cell_type": "code",
   "execution_count": 33,
   "id": "be252a81-4f93-49e6-a47b-273b848dcbd7",
   "metadata": {},
   "outputs": [],
   "source": [
    "def fibonacci_numbers(n):\n",
    "    \"\"\"\n",
    "    Problem: Write a function to return the first n Fibonacci numbers.\n",
    "    \n",
    "    Parameters:\n",
    "    n (int): Number of Fibonacci numbers to return\n",
    "    \n",
    "    Returns:\n",
    "    list: List of the first n Fibonacci numbers\n",
    "    \"\"\"\n",
    "    \n",
    "    # Initialize the list to store Fibonacci numbers\n",
    "    fib_num = []\n",
    "   \n",
    "    a,b= 0, 1\n",
    "    for i in range (n):\n",
    "        fib_num.append(a)\n",
    "        a,b = b, a+b\n",
    "    return fib_num\n",
    "\n",
    "\n",
    "\n"
   ]
  },
  {
   "cell_type": "code",
   "execution_count": 34,
   "id": "e639cd46-2e76-4378-815b-61d6c6242520",
   "metadata": {},
   "outputs": [
    {
     "name": "stdout",
     "output_type": "stream",
     "text": [
      "[]\n",
      "[0]\n",
      "[0, 1, 1, 2, 3]\n"
     ]
    }
   ],
   "source": [
    "# Sample test cases\n",
    "print(fibonacci_numbers(0))  # Output: []\n",
    "print(fibonacci_numbers(1))  # Output: [0]\n",
    "print(fibonacci_numbers(5))  # Output: [0, 1, 1, 2, 3]"
   ]
  },
  {
   "cell_type": "code",
   "execution_count": null,
   "id": "92a6c964-3ecb-4a11-9464-61a1413049c9",
   "metadata": {},
   "outputs": [],
   "source": []
  }
 ],
 "metadata": {
  "kernelspec": {
   "display_name": "Python 3 (ipykernel)",
   "language": "python",
   "name": "python3"
  },
  "language_info": {
   "codemirror_mode": {
    "name": "ipython",
    "version": 3
   },
   "file_extension": ".py",
   "mimetype": "text/x-python",
   "name": "python",
   "nbconvert_exporter": "python",
   "pygments_lexer": "ipython3",
   "version": "3.12.8"
  }
 },
 "nbformat": 4,
 "nbformat_minor": 5
}
