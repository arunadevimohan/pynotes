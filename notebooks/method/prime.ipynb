{
 "cells": [
  {
   "cell_type": "code",
   "execution_count": null,
   "id": "e019a3c6-1355-4cc3-9fdd-9cf5944c67f6",
   "metadata": {},
   "outputs": [],
   "source": []
  },
  {
   "cell_type": "code",
   "execution_count": 26,
   "id": "21404976-e906-4cce-8d71-2c8949012c0c",
   "metadata": {},
   "outputs": [],
   "source": [
    "def check_prime(n):\n",
    "   for i in range(2,n):\n",
    "      if(n%i) == 0:\n",
    "          return False\n",
    "      else:\n",
    "          return True\n",
    "          \n",
    " "
   ]
  },
  {
   "cell_type": "code",
   "execution_count": 27,
   "id": "2f757236-2f6d-461d-8f87-531379f204dd",
   "metadata": {},
   "outputs": [
    {
     "name": "stdout",
     "output_type": "stream",
     "text": [
      "True\n",
      "False\n",
      "True\n"
     ]
    }
   ],
   "source": [
    "print(check_prime(5)) # Expected output: True\n",
    "print(check_prime(10)) # Expected output: False\n",
    "print(check_prime(17)) # Expected output: True"
   ]
  },
  {
   "cell_type": "code",
   "execution_count": 29,
   "id": "a5903dbd-80f2-465a-82f9-b8c6525047b1",
   "metadata": {},
   "outputs": [
    {
     "name": "stdout",
     "output_type": "stream",
     "text": [
      "True\n"
     ]
    }
   ],
   "source": [
    "print(check_prime(11))"
   ]
  },
  {
   "cell_type": "code",
   "execution_count": null,
   "id": "50b85002-4eb4-45cf-8efa-5e6af6281db5",
   "metadata": {},
   "outputs": [],
   "source": []
  }
 ],
 "metadata": {
  "kernelspec": {
   "display_name": "Python 3 (ipykernel)",
   "language": "python",
   "name": "python3"
  },
  "language_info": {
   "codemirror_mode": {
    "name": "ipython",
    "version": 3
   },
   "file_extension": ".py",
   "mimetype": "text/x-python",
   "name": "python",
   "nbconvert_exporter": "python",
   "pygments_lexer": "ipython3",
   "version": "3.12.8"
  }
 },
 "nbformat": 4,
 "nbformat_minor": 5
}
