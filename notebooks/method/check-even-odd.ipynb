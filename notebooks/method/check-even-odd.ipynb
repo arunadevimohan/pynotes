{
 "cells": [
  {
   "cell_type": "code",
   "execution_count": 24,
   "id": "fe37b71a-6590-4afb-bc2d-3e6639aa511d",
   "metadata": {},
   "outputs": [],
   "source": [
    "def check_even_odd(num):\n",
    "    \"\"\"\n",
    "    This function checks if a number is even or odd.\n",
    "\n",
    "    Parameters:\n",
    "    num (int): The number to be checked.\n",
    "\n",
    "    Returns:\n",
    "    str: 'Even' if the number is even, 'Odd' if the number is odd.\n",
    "    \"\"\"\n",
    "    \n",
    "    if num %2 == 0:\n",
    "        return \"even\"\n",
    "    else:\n",
    "        return \"odd\"\n",
    "    "
   ]
  },
  {
   "cell_type": "code",
   "execution_count": 25,
   "id": "d57e0c5f-f2ac-4dca-966c-c91c9f1f9896",
   "metadata": {},
   "outputs": [
    {
     "name": "stdout",
     "output_type": "stream",
     "text": [
      "even\n",
      "odd\n",
      "even\n"
     ]
    }
   ],
   "source": [
    "print(check_even_odd(2))  # Expected output: 'Even'\n",
    "print(check_even_odd(3))  # Expected output: 'Odd'\n",
    "print(check_even_odd(0))  # Expected output: 'Even'\n"
   ]
  },
  {
   "cell_type": "code",
   "execution_count": 26,
   "id": "a4d17065-7d20-4f32-b5a1-4075e830bda2",
   "metadata": {},
   "outputs": [
    {
     "name": "stdout",
     "output_type": "stream",
     "text": [
      "odd\n"
     ]
    }
   ],
   "source": [
    "print(check_even_odd(7))"
   ]
  },
  {
   "cell_type": "code",
   "execution_count": null,
   "id": "430662e6-437f-4ece-b398-2dd8872a5620",
   "metadata": {},
   "outputs": [],
   "source": []
  }
 ],
 "metadata": {
  "kernelspec": {
   "display_name": "Python 3 (ipykernel)",
   "language": "python",
   "name": "python3"
  },
  "language_info": {
   "codemirror_mode": {
    "name": "ipython",
    "version": 3
   },
   "file_extension": ".py",
   "mimetype": "text/x-python",
   "name": "python",
   "nbconvert_exporter": "python",
   "pygments_lexer": "ipython3",
   "version": "3.12.8"
  }
 },
 "nbformat": 4,
 "nbformat_minor": 5
}
