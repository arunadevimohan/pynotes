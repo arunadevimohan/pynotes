{
 "cells": [
  {
   "cell_type": "code",
   "execution_count": 1,
   "id": "664b9e38-7911-4687-9d7e-7f23b063afc3",
   "metadata": {},
   "outputs": [],
   "source": [
    "# Define the number of rows for the equilateral triangle"
   ]
  },
  {
   "cell_type": "code",
   "execution_count": 2,
   "id": "9660af2e-c89f-4dee-a8de-0244f4193fa9",
   "metadata": {},
   "outputs": [],
   "source": [
    "rows = 5"
   ]
  },
  {
   "cell_type": "code",
   "execution_count": 3,
   "id": "19f49649-905c-4cf7-800d-36e9222d861b",
   "metadata": {},
   "outputs": [],
   "source": [
    "# Outer loop: iterate through each row\n"
   ]
  },
  {
   "cell_type": "code",
   "execution_count": 4,
   "id": "1a008bd9-68e6-4ec8-bf9d-dc1a3f819034",
   "metadata": {},
   "outputs": [
    {
     "name": "stdout",
     "output_type": "stream",
     "text": [
      "    *\n",
      "   ***\n",
      "  *****\n",
      " *******\n",
      "*********\n"
     ]
    }
   ],
   "source": [
    "for i in range(1, rows + 1):\n",
    "    # Calculate the number of spaces for centering the stars\n",
    "    spaces = rows - i\n",
    "    \n",
    "    # Calculate the number of stars to be printed (2 * i - 1 stars for each row)\n",
    "    stars = 2 * i - 1\n",
    "    \n",
    "    # Print spaces followed by stars for each row\n",
    "    print(' ' * spaces + '*' * stars)\n",
    "    "
   ]
  },
  {
   "cell_type": "code",
   "execution_count": null,
   "id": "3b98f595-8c3d-43fe-894e-36380b9ce178",
   "metadata": {},
   "outputs": [],
   "source": []
  }
 ],
 "metadata": {
  "kernelspec": {
   "display_name": "Python 3 (ipykernel)",
   "language": "python",
   "name": "python3"
  },
  "language_info": {
   "codemirror_mode": {
    "name": "ipython",
    "version": 3
   },
   "file_extension": ".py",
   "mimetype": "text/x-python",
   "name": "python",
   "nbconvert_exporter": "python",
   "pygments_lexer": "ipython3",
   "version": "3.12.8"
  }
 },
 "nbformat": 4,
 "nbformat_minor": 5
}
