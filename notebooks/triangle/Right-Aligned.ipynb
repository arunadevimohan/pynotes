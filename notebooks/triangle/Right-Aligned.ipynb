{
 "cells": [
  {
   "cell_type": "code",
   "execution_count": 1,
   "id": "c6348b6f-03de-4e4f-bbc7-be774140dc54",
   "metadata": {},
   "outputs": [],
   "source": [
    "# Number of rows in the triangle"
   ]
  },
  {
   "cell_type": "code",
   "execution_count": 4,
   "id": "e1a7712e-af30-4ae0-b3ff-83b66519bdd5",
   "metadata": {},
   "outputs": [],
   "source": [
    "rows = 5\n"
   ]
  },
  {
   "cell_type": "code",
   "execution_count": 5,
   "id": "b3a42dcb-9f71-4dc4-90af-220835612ac2",
   "metadata": {},
   "outputs": [],
   "source": [
    "# Outer loop: iterate through each row"
   ]
  },
  {
   "cell_type": "code",
   "execution_count": 6,
   "id": "97593dce-853e-4ed0-8b24-722a797f7ae7",
   "metadata": {},
   "outputs": [
    {
     "name": "stdout",
     "output_type": "stream",
     "text": [
      "    *\n",
      "   **\n",
      "  ***\n",
      " ****\n",
      "*****\n"
     ]
    }
   ],
   "source": [
    "for i in range(1, rows + 1):\n",
    "    print(' ' * (rows - i) + '*' * i)"
   ]
  },
  {
   "cell_type": "code",
   "execution_count": null,
   "id": "cd1c2628-c1f2-4f3b-a429-0b32787bdfb2",
   "metadata": {},
   "outputs": [],
   "source": []
  }
 ],
 "metadata": {
  "kernelspec": {
   "display_name": "Python 3 (ipykernel)",
   "language": "python",
   "name": "python3"
  },
  "language_info": {
   "codemirror_mode": {
    "name": "ipython",
    "version": 3
   },
   "file_extension": ".py",
   "mimetype": "text/x-python",
   "name": "python",
   "nbconvert_exporter": "python",
   "pygments_lexer": "ipython3",
   "version": "3.12.8"
  }
 },
 "nbformat": 4,
 "nbformat_minor": 5
}
