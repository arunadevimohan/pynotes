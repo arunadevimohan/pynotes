{
 "cells": [
  {
   "cell_type": "code",
   "execution_count": 2,
   "id": "4167f42c-e1e0-449a-89e6-84ebfc0cc237",
   "metadata": {},
   "outputs": [],
   "source": [
    "# Number of rows in the triangle"
   ]
  },
  {
   "cell_type": "code",
   "execution_count": 3,
   "id": "23cfa595-e369-4f0c-96aa-03994fd204fb",
   "metadata": {},
   "outputs": [],
   "source": [
    "rows = 5\n"
   ]
  },
  {
   "cell_type": "code",
   "execution_count": 4,
   "id": "f3ad1c62-989d-47b8-a361-a0770940bd5a",
   "metadata": {},
   "outputs": [
    {
     "name": "stdout",
     "output_type": "stream",
     "text": [
      "12345\n",
      " 1234\n",
      "  123\n",
      "   12\n",
      "    1\n"
     ]
    }
   ],
   "source": [
    "for i in range(rows, 0, -1):\n",
    "    print(' ' * (rows - i) + ''.join(str(x) for x in range(1, i + 1)))"
   ]
  },
  {
   "cell_type": "code",
   "execution_count": null,
   "id": "f2bd3b10-91cb-4cdd-a681-1b8a77322c0a",
   "metadata": {},
   "outputs": [],
   "source": []
  }
 ],
 "metadata": {
  "kernelspec": {
   "display_name": "Python 3 (ipykernel)",
   "language": "python",
   "name": "python3"
  },
  "language_info": {
   "codemirror_mode": {
    "name": "ipython",
    "version": 3
   },
   "file_extension": ".py",
   "mimetype": "text/x-python",
   "name": "python",
   "nbconvert_exporter": "python",
   "pygments_lexer": "ipython3",
   "version": "3.12.8"
  }
 },
 "nbformat": 4,
 "nbformat_minor": 5
}
