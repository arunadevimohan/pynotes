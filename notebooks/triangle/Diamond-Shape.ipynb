{
 "cells": [
  {
   "cell_type": "code",
   "execution_count": 2,
   "id": "199e7335-891b-43d8-a2b8-04292a2562b0",
   "metadata": {},
   "outputs": [],
   "source": [
    "# Number of rows in the triangle"
   ]
  },
  {
   "cell_type": "code",
   "execution_count": 3,
   "id": "db2c28ed-4a5a-4f3a-ab9c-19451e0d59e8",
   "metadata": {},
   "outputs": [],
   "source": [
    "rows = 5\n"
   ]
  },
  {
   "cell_type": "code",
   "execution_count": 8,
   "id": "37a2810c-a420-4a26-bfd8-05c09b9a61a6",
   "metadata": {},
   "outputs": [
    {
     "name": "stdout",
     "output_type": "stream",
     "text": [
      "    *\n",
      "   ***\n",
      "  *****\n",
      " *******\n",
      "*********\n",
      " *******\n",
      "  *****\n",
      "   ***\n",
      "    *\n"
     ]
    }
   ],
   "source": [
    "# Upper half (pyramid)\n",
    "for i in range(1, rows + 1):\n",
    "    print(' ' * (rows - i) + '*' * (2 * i - 1))\n",
    "# Lower half (inverted pyramid)\n",
    "for i in range(rows - 1, 0, -1):\n",
    "    print(' ' * (rows - i) + '*' * (2 * i - 1))"
   ]
  },
  {
   "cell_type": "code",
   "execution_count": null,
   "id": "5fe6f7d7-5c6b-4036-8700-9978c7ed8020",
   "metadata": {},
   "outputs": [],
   "source": []
  }
 ],
 "metadata": {
  "kernelspec": {
   "display_name": "Python 3 (ipykernel)",
   "language": "python",
   "name": "python3"
  },
  "language_info": {
   "codemirror_mode": {
    "name": "ipython",
    "version": 3
   },
   "file_extension": ".py",
   "mimetype": "text/x-python",
   "name": "python",
   "nbconvert_exporter": "python",
   "pygments_lexer": "ipython3",
   "version": "3.12.8"
  }
 },
 "nbformat": 4,
 "nbformat_minor": 5
}
