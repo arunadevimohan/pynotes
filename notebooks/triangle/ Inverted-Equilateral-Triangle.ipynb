{
 "cells": [
  {
   "cell_type": "code",
   "execution_count": 1,
   "id": "8d99de38-3296-465d-abee-4442ce948699",
   "metadata": {},
   "outputs": [],
   "source": [
    "# Number of rows in the triangle"
   ]
  },
  {
   "cell_type": "code",
   "execution_count": 2,
   "id": "00d307d2-9e3e-48ed-a2cf-c68314da0708",
   "metadata": {},
   "outputs": [],
   "source": [
    "rows = 5\n"
   ]
  },
  {
   "cell_type": "code",
   "execution_count": 3,
   "id": "b0378f67-ec61-44b2-838d-0a3d6e68c5c3",
   "metadata": {},
   "outputs": [],
   "source": [
    "# Outer loop: iterate through each row"
   ]
  },
  {
   "cell_type": "code",
   "execution_count": 4,
   "id": "c8f71f8b-5a8c-43a9-8cf1-8c08962514fe",
   "metadata": {},
   "outputs": [
    {
     "name": "stdout",
     "output_type": "stream",
     "text": [
      "*********\n",
      " *******\n",
      "  *****\n",
      "   ***\n",
      "    *\n"
     ]
    }
   ],
   "source": [
    "for i in range(rows, 0, -1):\n",
    "    print(' ' * (rows - i) + '*' * (2 * i - 1))"
   ]
  },
  {
   "cell_type": "code",
   "execution_count": null,
   "id": "da8c7f44-902b-4476-8ef8-74c8033caa1b",
   "metadata": {},
   "outputs": [],
   "source": []
  }
 ],
 "metadata": {
  "kernelspec": {
   "display_name": "Python 3 (ipykernel)",
   "language": "python",
   "name": "python3"
  },
  "language_info": {
   "codemirror_mode": {
    "name": "ipython",
    "version": 3
   },
   "file_extension": ".py",
   "mimetype": "text/x-python",
   "name": "python",
   "nbconvert_exporter": "python",
   "pygments_lexer": "ipython3",
   "version": "3.12.8"
  }
 },
 "nbformat": 4,
 "nbformat_minor": 5
}
