{
 "cells": [
  {
   "cell_type": "code",
   "execution_count": 1,
   "id": "f48b5332-8c66-4268-92ef-879df58bbf01",
   "metadata": {},
   "outputs": [],
   "source": [
    "# Number of rows in the triangle"
   ]
  },
  {
   "cell_type": "code",
   "execution_count": 2,
   "id": "52349b43-1973-4720-91e5-05d8d5ede6f3",
   "metadata": {},
   "outputs": [],
   "source": [
    "rows = 5\n"
   ]
  },
  {
   "cell_type": "code",
   "execution_count": 4,
   "id": "f20e4b8e-a73c-40e9-8adc-9f97482d2d00",
   "metadata": {},
   "outputs": [],
   "source": [
    "# Outer loop: iterate through each row"
   ]
  },
  {
   "cell_type": "code",
   "execution_count": 5,
   "id": "047b5e97-e79d-4309-9e19-adc8f8143a14",
   "metadata": {},
   "outputs": [
    {
     "name": "stdout",
     "output_type": "stream",
     "text": [
      "*****\n",
      "****\n",
      "***\n",
      "**\n",
      "*\n"
     ]
    }
   ],
   "source": [
    "for i in range(rows, 0, -1):\n",
    "    print('*' * i)"
   ]
  },
  {
   "cell_type": "code",
   "execution_count": null,
   "id": "ead1c45b-eb46-46d1-8ca5-ac6ca8201c62",
   "metadata": {},
   "outputs": [],
   "source": []
  }
 ],
 "metadata": {
  "kernelspec": {
   "display_name": "Python 3 (ipykernel)",
   "language": "python",
   "name": "python3"
  },
  "language_info": {
   "codemirror_mode": {
    "name": "ipython",
    "version": 3
   },
   "file_extension": ".py",
   "mimetype": "text/x-python",
   "name": "python",
   "nbconvert_exporter": "python",
   "pygments_lexer": "ipython3",
   "version": "3.12.8"
  }
 },
 "nbformat": 4,
 "nbformat_minor": 5
}
