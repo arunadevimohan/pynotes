{
 "cells": [
  {
   "cell_type": "code",
   "execution_count": 1,
   "id": "e23e1dcd-a1af-43e0-9cd5-72396781f207",
   "metadata": {},
   "outputs": [],
   "source": [
    "# Define the number of rows for the triangle\n"
   ]
  },
  {
   "cell_type": "code",
   "execution_count": 2,
   "id": "7486f147-6fa6-4010-945b-efed08ad6876",
   "metadata": {},
   "outputs": [],
   "source": [
    "rows = 5"
   ]
  },
  {
   "cell_type": "code",
   "execution_count": 3,
   "id": "e5be9d8a-84cb-4ebf-b249-3e2ae4d54d18",
   "metadata": {},
   "outputs": [],
   "source": [
    "# Outer loop: iterate through each row"
   ]
  },
  {
   "cell_type": "code",
   "execution_count": 20,
   "id": "5bd0ec70-c66e-46d6-bd5e-4ef97826af73",
   "metadata": {},
   "outputs": [
    {
     "name": "stdout",
     "output_type": "stream",
     "text": [
      "    *\n",
      "   * *\n",
      "  *   *\n",
      " *     *\n",
      "*********\n"
     ]
    }
   ],
   "source": [
    "for i in range(1, rows + 1):\n",
    "    # Calculate spaces for centering the stars\n",
    "    spaces = rows - i\n",
    "    \n",
    "    # Calculate stars to be printed (2 * i - 1)\n",
    "    stars = 2 * i - 1\n",
    "    \n",
    "    \n",
    "    if i == 1 or i == rows:\n",
    "        print(' ' * spaces + '*' * stars)\n",
    "    else:\n",
    "        \n",
    "        print(' ' * spaces + '*' + ' ' * (stars - 2) + '*')"
   ]
  },
  {
   "cell_type": "code",
   "execution_count": null,
   "id": "e2631b1b-9621-4cce-a1c9-56e7babc1483",
   "metadata": {},
   "outputs": [],
   "source": []
  }
 ],
 "metadata": {
  "kernelspec": {
   "display_name": "Python 3 (ipykernel)",
   "language": "python",
   "name": "python3"
  },
  "language_info": {
   "codemirror_mode": {
    "name": "ipython",
    "version": 3
   },
   "file_extension": ".py",
   "mimetype": "text/x-python",
   "name": "python",
   "nbconvert_exporter": "python",
   "pygments_lexer": "ipython3",
   "version": "3.12.8"
  }
 },
 "nbformat": 4,
 "nbformat_minor": 5
}
