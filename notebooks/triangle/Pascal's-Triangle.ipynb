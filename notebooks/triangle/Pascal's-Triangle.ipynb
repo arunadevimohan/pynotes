{
 "cells": [
  {
   "cell_type": "code",
   "execution_count": 19,
   "id": "3ffef096-2b54-4965-955d-98c7255f90f8",
   "metadata": {},
   "outputs": [],
   "source": [
    "# Number of rows in the triangle"
   ]
  },
  {
   "cell_type": "code",
   "execution_count": 20,
   "id": "297f031b-bfc5-4ce9-9694-64d06577fa3d",
   "metadata": {},
   "outputs": [],
   "source": [
    "rows = 5\n"
   ]
  },
  {
   "cell_type": "code",
   "execution_count": 21,
   "id": "0885b548-d128-4b5d-96cb-b8fd97f10695",
   "metadata": {},
   "outputs": [],
   "source": [
    "# Initialize the triangle with the first row [1]"
   ]
  },
  {
   "cell_type": "code",
   "execution_count": 22,
   "id": "8c9a381c-0767-40d2-a049-6fbfa50ae230",
   "metadata": {},
   "outputs": [],
   "source": [
    "triangle = [[1]]\n"
   ]
  },
  {
   "cell_type": "code",
   "execution_count": 23,
   "id": "60a51bc9-a8a3-445b-81f3-9d35fa5bbeca",
   "metadata": {},
   "outputs": [
    {
     "name": "stdout",
     "output_type": "stream",
     "text": [
      "    1\n",
      "   1 1\n",
      "  1 2 1\n",
      " 1 3 3 1\n",
      "1 4 6 4 1\n"
     ]
    }
   ],
   "source": [
    "# Loop to generate each row starting from row 1\n",
    "for i in range(1, rows):\n",
    "    row = [1]  # Every row starts with a 1\n",
    "    \n",
    "    # Generate the middle elements by summing the two numbers above\n",
    "    for j in range(1, i):\n",
    "        row.append(triangle[i-1][j-1] + triangle[i-1][j])\n",
    "    \n",
    "    # End the row with a 1\n",
    "    row.append(1)\n",
    "    \n",
    "    # Append the generated row to the triangle\n",
    "    triangle.append(row)\n",
    "\n",
    "# Print the triangle, centering each row\n",
    "for row in triangle:\n",
    "    print(' ' * (rows - len(row)) + ' '.join(map(str, row)))\n"
   ]
  },
  {
   "cell_type": "code",
   "execution_count": null,
   "id": "9442db7a-5c74-469b-93ac-20d56a6d2841",
   "metadata": {},
   "outputs": [],
   "source": []
  }
 ],
 "metadata": {
  "kernelspec": {
   "display_name": "Python 3 (ipykernel)",
   "language": "python",
   "name": "python3"
  },
  "language_info": {
   "codemirror_mode": {
    "name": "ipython",
    "version": 3
   },
   "file_extension": ".py",
   "mimetype": "text/x-python",
   "name": "python",
   "nbconvert_exporter": "python",
   "pygments_lexer": "ipython3",
   "version": "3.12.8"
  }
 },
 "nbformat": 4,
 "nbformat_minor": 5
}
